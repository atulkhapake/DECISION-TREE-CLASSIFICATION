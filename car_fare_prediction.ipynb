{
  "nbformat": 4,
  "nbformat_minor": 0,
  "metadata": {
    "colab": {
      "name": "car fare prediction.ipynb",
      "provenance": [],
      "collapsed_sections": [],
      "authorship_tag": "ABX9TyNBVSxEcq9ap0yO0bX9JgtU",
      "include_colab_link": true
    },
    "kernelspec": {
      "name": "python3",
      "display_name": "Python 3"
    },
    "language_info": {
      "name": "python"
    }
  },
  "cells": [
    {
      "cell_type": "markdown",
      "metadata": {
        "id": "view-in-github",
        "colab_type": "text"
      },
      "source": [
        "<a href=\"https://colab.research.google.com/github/atulkhapake/DECISION-TREE-CLASSIFICATION/blob/main/car_fare_prediction.ipynb\" target=\"_parent\"><img src=\"https://colab.research.google.com/assets/colab-badge.svg\" alt=\"Open In Colab\"/></a>"
      ]
    },
    {
      "cell_type": "code",
      "metadata": {
        "id": "7Z6klxvg0M8W"
      },
      "source": [
        "#Importing required libraries\n",
        "import os #getting access to input files\n",
        "import pandas as pd # Importing pandas for performing EDA\n",
        "import numpy as np  # Importing numpy for Linear Algebric operations\n",
        "import matplotlib.pyplot as plt # Importing for Data Visualization\n",
        "import seaborn as sns # Importing for Data Visualization\n",
        "from collections import Counter \n",
        "from sklearn.tree import DecisionTreeRegressor\n",
        "from sklearn.ensemble import RandomForestRegressor\n",
        "from sklearn.ensemble import GradientBoostingRegressor\n",
        "from sklearn.linear_model import LinearRegression #ML algorithm\n",
        "from sklearn.model_selection import train_test_split #splitting dataset\n",
        "from sklearn.metrics import mean_squared_error\n",
        "from sklearn.metrics import r2_score\n",
        "from pprint import pprint\n",
        "from sklearn.model_selection import GridSearchCV    \n",
        "\n",
        "%matplotlib inline"
      ],
      "execution_count": null,
      "outputs": []
    },
    {
      "cell_type": "code",
      "metadata": {
        "id": "9Emv-wqP3zO3"
      },
      "source": [
        ""
      ],
      "execution_count": 231,
      "outputs": []
    },
    {
      "cell_type": "code",
      "metadata": {
        "id": "j51Kadj53zYB"
      },
      "source": [
        "#Loading the data:\n",
        "train  = pd.read_excel(\"train.xlsx\",na_values={\"pickup_datetime\":\"43\"})\n",
        "test   = pd.read_excel(\"test.xlsx\")"
      ],
      "execution_count": 232,
      "outputs": []
    },
    {
      "cell_type": "code",
      "metadata": {
        "colab": {
          "base_uri": "https://localhost:8080/",
          "height": 202
        },
        "id": "y5PDPNa46Tja",
        "outputId": "f95e11b3-aac5-44ba-d9d0-0e0b5dd65b7d"
      },
      "source": [
        "train.head() #checking first five rows of the training dataset"
      ],
      "execution_count": 233,
      "outputs": [
        {
          "output_type": "execute_result",
          "data": {
            "text/html": [
              "<div>\n",
              "<style scoped>\n",
              "    .dataframe tbody tr th:only-of-type {\n",
              "        vertical-align: middle;\n",
              "    }\n",
              "\n",
              "    .dataframe tbody tr th {\n",
              "        vertical-align: top;\n",
              "    }\n",
              "\n",
              "    .dataframe thead th {\n",
              "        text-align: right;\n",
              "    }\n",
              "</style>\n",
              "<table border=\"1\" class=\"dataframe\">\n",
              "  <thead>\n",
              "    <tr style=\"text-align: right;\">\n",
              "      <th></th>\n",
              "      <th>fare_amount</th>\n",
              "      <th>pickup_datetime</th>\n",
              "      <th>pickup_longitude</th>\n",
              "      <th>pickup_latitude</th>\n",
              "      <th>dropoff_longitude</th>\n",
              "      <th>dropoff_latitude</th>\n",
              "      <th>passenger_count</th>\n",
              "    </tr>\n",
              "  </thead>\n",
              "  <tbody>\n",
              "    <tr>\n",
              "      <th>0</th>\n",
              "      <td>4.5</td>\n",
              "      <td>2009-06-15 17:26:21 UTC</td>\n",
              "      <td>-73.844311</td>\n",
              "      <td>40.721319</td>\n",
              "      <td>-73.841610</td>\n",
              "      <td>40.712278</td>\n",
              "      <td>1.0</td>\n",
              "    </tr>\n",
              "    <tr>\n",
              "      <th>1</th>\n",
              "      <td>16.9</td>\n",
              "      <td>2010-01-05 16:52:16 UTC</td>\n",
              "      <td>-74.016048</td>\n",
              "      <td>40.711303</td>\n",
              "      <td>-73.979268</td>\n",
              "      <td>40.782004</td>\n",
              "      <td>1.0</td>\n",
              "    </tr>\n",
              "    <tr>\n",
              "      <th>2</th>\n",
              "      <td>5.7</td>\n",
              "      <td>2011-08-18 00:35:00 UTC</td>\n",
              "      <td>-73.982738</td>\n",
              "      <td>40.761270</td>\n",
              "      <td>-73.991242</td>\n",
              "      <td>40.750562</td>\n",
              "      <td>2.0</td>\n",
              "    </tr>\n",
              "    <tr>\n",
              "      <th>3</th>\n",
              "      <td>7.7</td>\n",
              "      <td>2012-04-21 04:30:42 UTC</td>\n",
              "      <td>-73.987130</td>\n",
              "      <td>40.733143</td>\n",
              "      <td>-73.991567</td>\n",
              "      <td>40.758092</td>\n",
              "      <td>1.0</td>\n",
              "    </tr>\n",
              "    <tr>\n",
              "      <th>4</th>\n",
              "      <td>5.3</td>\n",
              "      <td>2010-03-09 07:51:00 UTC</td>\n",
              "      <td>-73.968095</td>\n",
              "      <td>40.768008</td>\n",
              "      <td>-73.956655</td>\n",
              "      <td>40.783762</td>\n",
              "      <td>1.0</td>\n",
              "    </tr>\n",
              "  </tbody>\n",
              "</table>\n",
              "</div>"
            ],
            "text/plain": [
              "   fare_amount          pickup_datetime  ...  dropoff_latitude  passenger_count\n",
              "0          4.5  2009-06-15 17:26:21 UTC  ...         40.712278              1.0\n",
              "1         16.9  2010-01-05 16:52:16 UTC  ...         40.782004              1.0\n",
              "2          5.7  2011-08-18 00:35:00 UTC  ...         40.750562              2.0\n",
              "3          7.7  2012-04-21 04:30:42 UTC  ...         40.758092              1.0\n",
              "4          5.3  2010-03-09 07:51:00 UTC  ...         40.783762              1.0\n",
              "\n",
              "[5 rows x 7 columns]"
            ]
          },
          "metadata": {},
          "execution_count": 233
        }
      ]
    },
    {
      "cell_type": "code",
      "metadata": {
        "colab": {
          "base_uri": "https://localhost:8080/",
          "height": 202
        },
        "id": "-inVRl176bk8",
        "outputId": "76fae250-2de3-49ae-b9d7-6a201e1834fc"
      },
      "source": [
        "test.head() #checking first five rows of the test dataset\n"
      ],
      "execution_count": 234,
      "outputs": [
        {
          "output_type": "execute_result",
          "data": {
            "text/html": [
              "<div>\n",
              "<style scoped>\n",
              "    .dataframe tbody tr th:only-of-type {\n",
              "        vertical-align: middle;\n",
              "    }\n",
              "\n",
              "    .dataframe tbody tr th {\n",
              "        vertical-align: top;\n",
              "    }\n",
              "\n",
              "    .dataframe thead th {\n",
              "        text-align: right;\n",
              "    }\n",
              "</style>\n",
              "<table border=\"1\" class=\"dataframe\">\n",
              "  <thead>\n",
              "    <tr style=\"text-align: right;\">\n",
              "      <th></th>\n",
              "      <th>Unnamed: 0</th>\n",
              "      <th>pickup_datetime</th>\n",
              "      <th>pickup_longitude</th>\n",
              "      <th>pickup_latitude</th>\n",
              "      <th>dropoff_longitude</th>\n",
              "      <th>dropoff_latitude</th>\n",
              "      <th>passenger_count</th>\n",
              "    </tr>\n",
              "  </thead>\n",
              "  <tbody>\n",
              "    <tr>\n",
              "      <th>0</th>\n",
              "      <td>NaN</td>\n",
              "      <td>2015-01-27 13:08:24 UTC</td>\n",
              "      <td>-73.973320</td>\n",
              "      <td>40.763805</td>\n",
              "      <td>-73.981430</td>\n",
              "      <td>40.743835</td>\n",
              "      <td>1</td>\n",
              "    </tr>\n",
              "    <tr>\n",
              "      <th>1</th>\n",
              "      <td>NaN</td>\n",
              "      <td>2015-01-27 13:08:24 UTC</td>\n",
              "      <td>-73.986862</td>\n",
              "      <td>40.719383</td>\n",
              "      <td>-73.998886</td>\n",
              "      <td>40.739201</td>\n",
              "      <td>1</td>\n",
              "    </tr>\n",
              "    <tr>\n",
              "      <th>2</th>\n",
              "      <td>NaN</td>\n",
              "      <td>2011-10-08 11:53:44 UTC</td>\n",
              "      <td>-73.982524</td>\n",
              "      <td>40.751260</td>\n",
              "      <td>-73.979654</td>\n",
              "      <td>40.746139</td>\n",
              "      <td>1</td>\n",
              "    </tr>\n",
              "    <tr>\n",
              "      <th>3</th>\n",
              "      <td>NaN</td>\n",
              "      <td>2012-12-01 21:12:12 UTC</td>\n",
              "      <td>-73.981160</td>\n",
              "      <td>40.767807</td>\n",
              "      <td>-73.990448</td>\n",
              "      <td>40.751635</td>\n",
              "      <td>1</td>\n",
              "    </tr>\n",
              "    <tr>\n",
              "      <th>4</th>\n",
              "      <td>NaN</td>\n",
              "      <td>2012-12-01 21:12:12 UTC</td>\n",
              "      <td>-73.966046</td>\n",
              "      <td>40.789775</td>\n",
              "      <td>-73.988565</td>\n",
              "      <td>40.744427</td>\n",
              "      <td>1</td>\n",
              "    </tr>\n",
              "  </tbody>\n",
              "</table>\n",
              "</div>"
            ],
            "text/plain": [
              "   Unnamed: 0          pickup_datetime  ...  dropoff_latitude  passenger_count\n",
              "0         NaN  2015-01-27 13:08:24 UTC  ...         40.743835                1\n",
              "1         NaN  2015-01-27 13:08:24 UTC  ...         40.739201                1\n",
              "2         NaN  2011-10-08 11:53:44 UTC  ...         40.746139                1\n",
              "3         NaN  2012-12-01 21:12:12 UTC  ...         40.751635                1\n",
              "4         NaN  2012-12-01 21:12:12 UTC  ...         40.744427                1\n",
              "\n",
              "[5 rows x 7 columns]"
            ]
          },
          "metadata": {},
          "execution_count": 234
        }
      ]
    },
    {
      "cell_type": "code",
      "metadata": {
        "colab": {
          "base_uri": "https://localhost:8080/"
        },
        "id": "UQmwAJp36dro",
        "outputId": "58d08676-44a5-44c9-8935-a6b7a2d961f5"
      },
      "source": [
        "print(\"shape of training data is: \",train.shape) #checking the number of rows and columns in training data\n",
        "print(\"shape of test data is: \",test.shape) #checking the number of rows and columns in test data"
      ],
      "execution_count": 235,
      "outputs": [
        {
          "output_type": "stream",
          "text": [
            "shape of training data is:  (14152, 7)\n",
            "shape of test data is:  (6152, 7)\n"
          ],
          "name": "stdout"
        }
      ]
    },
    {
      "cell_type": "code",
      "metadata": {
        "colab": {
          "base_uri": "https://localhost:8080/"
        },
        "id": "_yrpUyVj6gEK",
        "outputId": "5ee46a44-5770-4f3d-c1b0-9f2d40a5da7e"
      },
      "source": [
        "train.dtypes #checking the data-types in training dataset\n"
      ],
      "execution_count": 236,
      "outputs": [
        {
          "output_type": "execute_result",
          "data": {
            "text/plain": [
              "fare_amount          float64\n",
              "pickup_datetime       object\n",
              "pickup_longitude     float64\n",
              "pickup_latitude      float64\n",
              "dropoff_longitude    float64\n",
              "dropoff_latitude     float64\n",
              "passenger_count      float64\n",
              "dtype: object"
            ]
          },
          "metadata": {},
          "execution_count": 236
        }
      ]
    },
    {
      "cell_type": "code",
      "metadata": {
        "colab": {
          "base_uri": "https://localhost:8080/"
        },
        "id": "2FR-5uuH6iFe",
        "outputId": "33785403-c3be-492b-a2a3-098c71c7b9a5"
      },
      "source": [
        "test.dtypes #checking the data-types in test dataset\n"
      ],
      "execution_count": 237,
      "outputs": [
        {
          "output_type": "execute_result",
          "data": {
            "text/plain": [
              "Unnamed: 0           float64\n",
              "pickup_datetime       object\n",
              "pickup_longitude     float64\n",
              "pickup_latitude      float64\n",
              "dropoff_longitude    float64\n",
              "dropoff_latitude     float64\n",
              "passenger_count        int64\n",
              "dtype: object"
            ]
          },
          "metadata": {},
          "execution_count": 237
        }
      ]
    },
    {
      "cell_type": "code",
      "metadata": {
        "colab": {
          "base_uri": "https://localhost:8080/",
          "height": 294
        },
        "id": "7Nrmrvl-6kPB",
        "outputId": "1265cd94-e213-42cc-fef7-2c878c8175ca"
      },
      "source": [
        "train.describe()\n"
      ],
      "execution_count": 238,
      "outputs": [
        {
          "output_type": "execute_result",
          "data": {
            "text/html": [
              "<div>\n",
              "<style scoped>\n",
              "    .dataframe tbody tr th:only-of-type {\n",
              "        vertical-align: middle;\n",
              "    }\n",
              "\n",
              "    .dataframe tbody tr th {\n",
              "        vertical-align: top;\n",
              "    }\n",
              "\n",
              "    .dataframe thead th {\n",
              "        text-align: right;\n",
              "    }\n",
              "</style>\n",
              "<table border=\"1\" class=\"dataframe\">\n",
              "  <thead>\n",
              "    <tr style=\"text-align: right;\">\n",
              "      <th></th>\n",
              "      <th>fare_amount</th>\n",
              "      <th>pickup_longitude</th>\n",
              "      <th>pickup_latitude</th>\n",
              "      <th>dropoff_longitude</th>\n",
              "      <th>dropoff_latitude</th>\n",
              "      <th>passenger_count</th>\n",
              "    </tr>\n",
              "  </thead>\n",
              "  <tbody>\n",
              "    <tr>\n",
              "      <th>count</th>\n",
              "      <td>14128.000000</td>\n",
              "      <td>14152.000000</td>\n",
              "      <td>14152.000000</td>\n",
              "      <td>14152.000000</td>\n",
              "      <td>14152.000000</td>\n",
              "      <td>14098.000000</td>\n",
              "    </tr>\n",
              "    <tr>\n",
              "      <th>mean</th>\n",
              "      <td>15.502882</td>\n",
              "      <td>-72.435936</td>\n",
              "      <td>39.899511</td>\n",
              "      <td>-72.430254</td>\n",
              "      <td>39.874750</td>\n",
              "      <td>2.755541</td>\n",
              "    </tr>\n",
              "    <tr>\n",
              "      <th>std</th>\n",
              "      <td>458.696460</td>\n",
              "      <td>10.682919</td>\n",
              "      <td>6.999119</td>\n",
              "      <td>10.696529</td>\n",
              "      <td>6.305812</td>\n",
              "      <td>64.840390</td>\n",
              "    </tr>\n",
              "    <tr>\n",
              "      <th>min</th>\n",
              "      <td>-430.000000</td>\n",
              "      <td>-74.438233</td>\n",
              "      <td>-74.006893</td>\n",
              "      <td>-74.429332</td>\n",
              "      <td>-74.006377</td>\n",
              "      <td>0.000000</td>\n",
              "    </tr>\n",
              "    <tr>\n",
              "      <th>25%</th>\n",
              "      <td>6.000000</td>\n",
              "      <td>-73.992152</td>\n",
              "      <td>40.734682</td>\n",
              "      <td>-73.991181</td>\n",
              "      <td>40.734711</td>\n",
              "      <td>1.000000</td>\n",
              "    </tr>\n",
              "    <tr>\n",
              "      <th>50%</th>\n",
              "      <td>8.500000</td>\n",
              "      <td>-73.981695</td>\n",
              "      <td>40.752643</td>\n",
              "      <td>-73.980089</td>\n",
              "      <td>40.753724</td>\n",
              "      <td>1.000000</td>\n",
              "    </tr>\n",
              "    <tr>\n",
              "      <th>75%</th>\n",
              "      <td>12.500000</td>\n",
              "      <td>-73.966759</td>\n",
              "      <td>40.767410</td>\n",
              "      <td>-73.963454</td>\n",
              "      <td>40.768188</td>\n",
              "      <td>2.000000</td>\n",
              "    </tr>\n",
              "    <tr>\n",
              "      <th>max</th>\n",
              "      <td>54343.000000</td>\n",
              "      <td>40.766125</td>\n",
              "      <td>401.083332</td>\n",
              "      <td>40.802437</td>\n",
              "      <td>41.366138</td>\n",
              "      <td>5345.000000</td>\n",
              "    </tr>\n",
              "  </tbody>\n",
              "</table>\n",
              "</div>"
            ],
            "text/plain": [
              "        fare_amount  pickup_longitude  ...  dropoff_latitude  passenger_count\n",
              "count  14128.000000      14152.000000  ...      14152.000000     14098.000000\n",
              "mean      15.502882        -72.435936  ...         39.874750         2.755541\n",
              "std      458.696460         10.682919  ...          6.305812        64.840390\n",
              "min     -430.000000        -74.438233  ...        -74.006377         0.000000\n",
              "25%        6.000000        -73.992152  ...         40.734711         1.000000\n",
              "50%        8.500000        -73.981695  ...         40.753724         1.000000\n",
              "75%       12.500000        -73.966759  ...         40.768188         2.000000\n",
              "max    54343.000000         40.766125  ...         41.366138      5345.000000\n",
              "\n",
              "[8 rows x 6 columns]"
            ]
          },
          "metadata": {},
          "execution_count": 238
        }
      ]
    },
    {
      "cell_type": "code",
      "metadata": {
        "colab": {
          "base_uri": "https://localhost:8080/",
          "height": 294
        },
        "id": "7AjmudAb6mZe",
        "outputId": "0cc09af1-9d59-4c1b-cfb1-fb1b8e7e98e3"
      },
      "source": [
        "test.describe()\n"
      ],
      "execution_count": 239,
      "outputs": [
        {
          "output_type": "execute_result",
          "data": {
            "text/html": [
              "<div>\n",
              "<style scoped>\n",
              "    .dataframe tbody tr th:only-of-type {\n",
              "        vertical-align: middle;\n",
              "    }\n",
              "\n",
              "    .dataframe tbody tr th {\n",
              "        vertical-align: top;\n",
              "    }\n",
              "\n",
              "    .dataframe thead th {\n",
              "        text-align: right;\n",
              "    }\n",
              "</style>\n",
              "<table border=\"1\" class=\"dataframe\">\n",
              "  <thead>\n",
              "    <tr style=\"text-align: right;\">\n",
              "      <th></th>\n",
              "      <th>Unnamed: 0</th>\n",
              "      <th>pickup_longitude</th>\n",
              "      <th>pickup_latitude</th>\n",
              "      <th>dropoff_longitude</th>\n",
              "      <th>dropoff_latitude</th>\n",
              "      <th>passenger_count</th>\n",
              "    </tr>\n",
              "  </thead>\n",
              "  <tbody>\n",
              "    <tr>\n",
              "      <th>count</th>\n",
              "      <td>0.0</td>\n",
              "      <td>6152.000000</td>\n",
              "      <td>6152.000000</td>\n",
              "      <td>6152.000000</td>\n",
              "      <td>6152.000000</td>\n",
              "      <td>6152.0</td>\n",
              "    </tr>\n",
              "    <tr>\n",
              "      <th>mean</th>\n",
              "      <td>NaN</td>\n",
              "      <td>-73.975055</td>\n",
              "      <td>40.751258</td>\n",
              "      <td>-73.974211</td>\n",
              "      <td>40.751487</td>\n",
              "      <td>1.0</td>\n",
              "    </tr>\n",
              "    <tr>\n",
              "      <th>std</th>\n",
              "      <td>NaN</td>\n",
              "      <td>0.040445</td>\n",
              "      <td>0.031834</td>\n",
              "      <td>0.036238</td>\n",
              "      <td>0.033633</td>\n",
              "      <td>0.0</td>\n",
              "    </tr>\n",
              "    <tr>\n",
              "      <th>min</th>\n",
              "      <td>NaN</td>\n",
              "      <td>-74.252193</td>\n",
              "      <td>40.573143</td>\n",
              "      <td>-74.263242</td>\n",
              "      <td>40.568973</td>\n",
              "      <td>1.0</td>\n",
              "    </tr>\n",
              "    <tr>\n",
              "      <th>25%</th>\n",
              "      <td>NaN</td>\n",
              "      <td>-73.992309</td>\n",
              "      <td>40.736337</td>\n",
              "      <td>-73.991266</td>\n",
              "      <td>40.735181</td>\n",
              "      <td>1.0</td>\n",
              "    </tr>\n",
              "    <tr>\n",
              "      <th>50%</th>\n",
              "      <td>NaN</td>\n",
              "      <td>-73.982142</td>\n",
              "      <td>40.753575</td>\n",
              "      <td>-73.979885</td>\n",
              "      <td>40.753927</td>\n",
              "      <td>1.0</td>\n",
              "    </tr>\n",
              "    <tr>\n",
              "      <th>75%</th>\n",
              "      <td>NaN</td>\n",
              "      <td>-73.967697</td>\n",
              "      <td>40.767371</td>\n",
              "      <td>-73.964094</td>\n",
              "      <td>40.768753</td>\n",
              "      <td>1.0</td>\n",
              "    </tr>\n",
              "    <tr>\n",
              "      <th>max</th>\n",
              "      <td>NaN</td>\n",
              "      <td>-73.137393</td>\n",
              "      <td>41.366138</td>\n",
              "      <td>-73.137393</td>\n",
              "      <td>41.366138</td>\n",
              "      <td>1.0</td>\n",
              "    </tr>\n",
              "  </tbody>\n",
              "</table>\n",
              "</div>"
            ],
            "text/plain": [
              "       Unnamed: 0  pickup_longitude  ...  dropoff_latitude  passenger_count\n",
              "count         0.0       6152.000000  ...       6152.000000           6152.0\n",
              "mean          NaN        -73.975055  ...         40.751487              1.0\n",
              "std           NaN          0.040445  ...          0.033633              0.0\n",
              "min           NaN        -74.252193  ...         40.568973              1.0\n",
              "25%           NaN        -73.992309  ...         40.735181              1.0\n",
              "50%           NaN        -73.982142  ...         40.753927              1.0\n",
              "75%           NaN        -73.967697  ...         40.768753              1.0\n",
              "max           NaN        -73.137393  ...         41.366138              1.0\n",
              "\n",
              "[8 rows x 6 columns]"
            ]
          },
          "metadata": {},
          "execution_count": 239
        }
      ]
    },
    {
      "cell_type": "markdown",
      "metadata": {
        "id": "pmgYYupO6qqu"
      },
      "source": [
        "Data cleaning and Missing value analysis"
      ]
    },
    {
      "cell_type": "code",
      "metadata": {
        "id": "PS4XdNSR6-f8"
      },
      "source": [
        "\n",
        "#Convert fare_amount from object to numeric\n",
        "train[\"fare_amount\"] = pd.to_numeric(train[\"fare_amount\"],errors = \"coerce\")  #Using errors=’coerce’. It will replace all non-numeric values with NaN."
      ],
      "execution_count": 240,
      "outputs": []
    },
    {
      "cell_type": "code",
      "metadata": {
        "colab": {
          "base_uri": "https://localhost:8080/"
        },
        "id": "x4vTrX9C7Eh0",
        "outputId": "17c09d3f-5fe2-4eb1-9c4e-35cb32511728"
      },
      "source": [
        "train.dtypes\n"
      ],
      "execution_count": 241,
      "outputs": [
        {
          "output_type": "execute_result",
          "data": {
            "text/plain": [
              "fare_amount          float64\n",
              "pickup_datetime       object\n",
              "pickup_longitude     float64\n",
              "pickup_latitude      float64\n",
              "dropoff_longitude    float64\n",
              "dropoff_latitude     float64\n",
              "passenger_count      float64\n",
              "dtype: object"
            ]
          },
          "metadata": {},
          "execution_count": 241
        }
      ]
    },
    {
      "cell_type": "code",
      "metadata": {
        "colab": {
          "base_uri": "https://localhost:8080/"
        },
        "id": "4axn97hYD9vJ",
        "outputId": "82e0642d-1d99-4fd4-d781-04389d6fe72d"
      },
      "source": [
        "test.dtypes"
      ],
      "execution_count": 242,
      "outputs": [
        {
          "output_type": "execute_result",
          "data": {
            "text/plain": [
              "Unnamed: 0           float64\n",
              "pickup_datetime       object\n",
              "pickup_longitude     float64\n",
              "pickup_latitude      float64\n",
              "dropoff_longitude    float64\n",
              "dropoff_latitude     float64\n",
              "passenger_count        int64\n",
              "dtype: object"
            ]
          },
          "metadata": {},
          "execution_count": 242
        }
      ]
    },
    {
      "cell_type": "code",
      "metadata": {
        "colab": {
          "base_uri": "https://localhost:8080/"
        },
        "id": "sEBUkHCP7Htn",
        "outputId": "96d89e73-187f-4844-bb4a-a09b97c4db8b"
      },
      "source": [
        "train.shape\n"
      ],
      "execution_count": 243,
      "outputs": [
        {
          "output_type": "execute_result",
          "data": {
            "text/plain": [
              "(14152, 7)"
            ]
          },
          "metadata": {},
          "execution_count": 243
        }
      ]
    },
    {
      "cell_type": "code",
      "metadata": {
        "colab": {
          "base_uri": "https://localhost:8080/",
          "height": 414
        },
        "id": "BB-9bKqL7KG7",
        "outputId": "b18c947b-27ce-43d9-bc82-7766bbfdba74"
      },
      "source": [
        "train.dropna(subset= [\"pickup_datetime\"])   #dropping NA values in datetime column\n"
      ],
      "execution_count": 244,
      "outputs": [
        {
          "output_type": "execute_result",
          "data": {
            "text/html": [
              "<div>\n",
              "<style scoped>\n",
              "    .dataframe tbody tr th:only-of-type {\n",
              "        vertical-align: middle;\n",
              "    }\n",
              "\n",
              "    .dataframe tbody tr th {\n",
              "        vertical-align: top;\n",
              "    }\n",
              "\n",
              "    .dataframe thead th {\n",
              "        text-align: right;\n",
              "    }\n",
              "</style>\n",
              "<table border=\"1\" class=\"dataframe\">\n",
              "  <thead>\n",
              "    <tr style=\"text-align: right;\">\n",
              "      <th></th>\n",
              "      <th>fare_amount</th>\n",
              "      <th>pickup_datetime</th>\n",
              "      <th>pickup_longitude</th>\n",
              "      <th>pickup_latitude</th>\n",
              "      <th>dropoff_longitude</th>\n",
              "      <th>dropoff_latitude</th>\n",
              "      <th>passenger_count</th>\n",
              "    </tr>\n",
              "  </thead>\n",
              "  <tbody>\n",
              "    <tr>\n",
              "      <th>0</th>\n",
              "      <td>4.5</td>\n",
              "      <td>2009-06-15 17:26:21 UTC</td>\n",
              "      <td>-73.844311</td>\n",
              "      <td>40.721319</td>\n",
              "      <td>-73.841610</td>\n",
              "      <td>40.712278</td>\n",
              "      <td>1.0</td>\n",
              "    </tr>\n",
              "    <tr>\n",
              "      <th>1</th>\n",
              "      <td>16.9</td>\n",
              "      <td>2010-01-05 16:52:16 UTC</td>\n",
              "      <td>-74.016048</td>\n",
              "      <td>40.711303</td>\n",
              "      <td>-73.979268</td>\n",
              "      <td>40.782004</td>\n",
              "      <td>1.0</td>\n",
              "    </tr>\n",
              "    <tr>\n",
              "      <th>2</th>\n",
              "      <td>5.7</td>\n",
              "      <td>2011-08-18 00:35:00 UTC</td>\n",
              "      <td>-73.982738</td>\n",
              "      <td>40.761270</td>\n",
              "      <td>-73.991242</td>\n",
              "      <td>40.750562</td>\n",
              "      <td>2.0</td>\n",
              "    </tr>\n",
              "    <tr>\n",
              "      <th>3</th>\n",
              "      <td>7.7</td>\n",
              "      <td>2012-04-21 04:30:42 UTC</td>\n",
              "      <td>-73.987130</td>\n",
              "      <td>40.733143</td>\n",
              "      <td>-73.991567</td>\n",
              "      <td>40.758092</td>\n",
              "      <td>1.0</td>\n",
              "    </tr>\n",
              "    <tr>\n",
              "      <th>4</th>\n",
              "      <td>5.3</td>\n",
              "      <td>2010-03-09 07:51:00 UTC</td>\n",
              "      <td>-73.968095</td>\n",
              "      <td>40.768008</td>\n",
              "      <td>-73.956655</td>\n",
              "      <td>40.783762</td>\n",
              "      <td>1.0</td>\n",
              "    </tr>\n",
              "    <tr>\n",
              "      <th>...</th>\n",
              "      <td>...</td>\n",
              "      <td>...</td>\n",
              "      <td>...</td>\n",
              "      <td>...</td>\n",
              "      <td>...</td>\n",
              "      <td>...</td>\n",
              "      <td>...</td>\n",
              "    </tr>\n",
              "    <tr>\n",
              "      <th>14147</th>\n",
              "      <td>16.6</td>\n",
              "      <td>2009-02-07 21:53:40 UTC</td>\n",
              "      <td>-73.978608</td>\n",
              "      <td>40.762113</td>\n",
              "      <td>-73.978307</td>\n",
              "      <td>40.762792</td>\n",
              "      <td>1.0</td>\n",
              "    </tr>\n",
              "    <tr>\n",
              "      <th>14148</th>\n",
              "      <td>9.0</td>\n",
              "      <td>2014-12-28 15:57:00 UTC</td>\n",
              "      <td>-73.989560</td>\n",
              "      <td>40.743390</td>\n",
              "      <td>-73.962170</td>\n",
              "      <td>40.756490</td>\n",
              "      <td>1.0</td>\n",
              "    </tr>\n",
              "    <tr>\n",
              "      <th>14149</th>\n",
              "      <td>8.5</td>\n",
              "      <td>2015-06-02 18:38:41 UTC</td>\n",
              "      <td>-73.958672</td>\n",
              "      <td>40.764427</td>\n",
              "      <td>-73.975357</td>\n",
              "      <td>40.752201</td>\n",
              "      <td>1.0</td>\n",
              "    </tr>\n",
              "    <tr>\n",
              "      <th>14150</th>\n",
              "      <td>8.1</td>\n",
              "      <td>2009-01-20 15:15:00 UTC</td>\n",
              "      <td>-73.953725</td>\n",
              "      <td>40.766800</td>\n",
              "      <td>-73.979067</td>\n",
              "      <td>40.766660</td>\n",
              "      <td>1.0</td>\n",
              "    </tr>\n",
              "    <tr>\n",
              "      <th>14151</th>\n",
              "      <td>11.5</td>\n",
              "      <td>2012-11-12 17:45:00 UTC</td>\n",
              "      <td>-73.978578</td>\n",
              "      <td>40.750472</td>\n",
              "      <td>-73.952223</td>\n",
              "      <td>40.781075</td>\n",
              "      <td>1.0</td>\n",
              "    </tr>\n",
              "  </tbody>\n",
              "</table>\n",
              "<p>14151 rows × 7 columns</p>\n",
              "</div>"
            ],
            "text/plain": [
              "       fare_amount          pickup_datetime  ...  dropoff_latitude  passenger_count\n",
              "0              4.5  2009-06-15 17:26:21 UTC  ...         40.712278              1.0\n",
              "1             16.9  2010-01-05 16:52:16 UTC  ...         40.782004              1.0\n",
              "2              5.7  2011-08-18 00:35:00 UTC  ...         40.750562              2.0\n",
              "3              7.7  2012-04-21 04:30:42 UTC  ...         40.758092              1.0\n",
              "4              5.3  2010-03-09 07:51:00 UTC  ...         40.783762              1.0\n",
              "...            ...                      ...  ...               ...              ...\n",
              "14147         16.6  2009-02-07 21:53:40 UTC  ...         40.762792              1.0\n",
              "14148          9.0  2014-12-28 15:57:00 UTC  ...         40.756490              1.0\n",
              "14149          8.5  2015-06-02 18:38:41 UTC  ...         40.752201              1.0\n",
              "14150          8.1  2009-01-20 15:15:00 UTC  ...         40.766660              1.0\n",
              "14151         11.5  2012-11-12 17:45:00 UTC  ...         40.781075              1.0\n",
              "\n",
              "[14151 rows x 7 columns]"
            ]
          },
          "metadata": {},
          "execution_count": 244
        }
      ]
    },
    {
      "cell_type": "code",
      "metadata": {
        "id": "tYumAtvm7LyJ"
      },
      "source": [
        "# Here pickup_datetime variable is in object so we need to change its data type to datetime\n",
        "train['pickup_datetime'] =  pd.to_datetime(train['pickup_datetime'], format='%Y-%m-%d %H:%M:%S UTC')"
      ],
      "execution_count": 245,
      "outputs": []
    },
    {
      "cell_type": "code",
      "metadata": {
        "id": "x6bR6TNs7SsP"
      },
      "source": [
        "\n",
        "### we will saperate the Pickup_datetime column into separate field like year, month, day of the week, etc\n",
        "\n",
        "train['year'] = train['pickup_datetime'].dt.year\n",
        "train['Month'] = train['pickup_datetime'].dt.month\n",
        "train['Date'] = train['pickup_datetime'].dt.day\n",
        "train['Day'] = train['pickup_datetime'].dt.dayofweek\n",
        "train['Hour'] = train['pickup_datetime'].dt.hour\n",
        "train['Minute'] = train['pickup_datetime'].dt.minute"
      ],
      "execution_count": 246,
      "outputs": []
    },
    {
      "cell_type": "code",
      "metadata": {
        "colab": {
          "base_uri": "https://localhost:8080/"
        },
        "id": "Kcm1KaFI7VKF",
        "outputId": "ec7d77b1-8003-45ee-f2c4-132a50e98a3b"
      },
      "source": [
        "train.dtypes #Re-checking datatypes after conversion"
      ],
      "execution_count": 247,
      "outputs": [
        {
          "output_type": "execute_result",
          "data": {
            "text/plain": [
              "fare_amount                 float64\n",
              "pickup_datetime      datetime64[ns]\n",
              "pickup_longitude            float64\n",
              "pickup_latitude             float64\n",
              "dropoff_longitude           float64\n",
              "dropoff_latitude            float64\n",
              "passenger_count             float64\n",
              "year                        float64\n",
              "Month                       float64\n",
              "Date                        float64\n",
              "Day                         float64\n",
              "Hour                        float64\n",
              "Minute                      float64\n",
              "dtype: object"
            ]
          },
          "metadata": {},
          "execution_count": 247
        }
      ]
    },
    {
      "cell_type": "code",
      "metadata": {
        "id": "fDu1JwXM7XoN"
      },
      "source": [
        "test['pickup_datetime'] =  pd.to_datetime(test['pickup_datetime'], format='%Y-%m-%d %H:%M:%S UTC')"
      ],
      "execution_count": 248,
      "outputs": []
    },
    {
      "cell_type": "code",
      "metadata": {
        "id": "z_mNASlDHHkm"
      },
      "source": [
        "test[\"pickup_datetime\"] = pd.to_datetime(test[\"pickup_datetime\"],format= \"%Y-%m-%d %H:%M:%S UTC\")"
      ],
      "execution_count": 249,
      "outputs": []
    },
    {
      "cell_type": "code",
      "metadata": {
        "id": "21mreMcR7YRx"
      },
      "source": [
        "### we will saperate the Pickup_datetime column into separate field like year, month, day of the week, etc\n",
        "\n",
        "test['year'] = test['pickup_datetime'].dt.year\n",
        "test['Month'] = test['pickup_datetime'].dt.month\n",
        "test['Date'] = test['pickup_datetime'].dt.day\n",
        "test['Day'] = test['pickup_datetime'].dt.dayofweek\n",
        "test['Hour'] = test['pickup_datetime'].dt.hour\n",
        "test['Minute'] = test['pickup_datetime'].dt.minute"
      ],
      "execution_count": 250,
      "outputs": []
    },
    {
      "cell_type": "code",
      "metadata": {
        "colab": {
          "base_uri": "https://localhost:8080/"
        },
        "id": "bNpDSJ537oK-",
        "outputId": "18fe32a6-c298-4ec0-c3cd-37364ddcfd8e"
      },
      "source": [
        "test.dtypes #Re-checking test datatypes after conversion\n"
      ],
      "execution_count": 251,
      "outputs": [
        {
          "output_type": "execute_result",
          "data": {
            "text/plain": [
              "Unnamed: 0                  float64\n",
              "pickup_datetime      datetime64[ns]\n",
              "pickup_longitude            float64\n",
              "pickup_latitude             float64\n",
              "dropoff_longitude           float64\n",
              "dropoff_latitude            float64\n",
              "passenger_count               int64\n",
              "year                          int64\n",
              "Month                         int64\n",
              "Date                          int64\n",
              "Day                           int64\n",
              "Hour                          int64\n",
              "Minute                        int64\n",
              "dtype: object"
            ]
          },
          "metadata": {},
          "execution_count": 251
        }
      ]
    },
    {
      "cell_type": "code",
      "metadata": {
        "colab": {
          "base_uri": "https://localhost:8080/"
        },
        "id": "-3kf8Fm67sKT",
        "outputId": "a5942ebc-517f-4bcb-cbf8-22b117f207de"
      },
      "source": [
        "\n",
        "#removing datetime missing values rows\n",
        "train = train.drop(train[train['pickup_datetime'].isnull()].index, axis=0)\n",
        "print(train.shape)\n",
        "print(train['pickup_datetime'].isnull().sum())"
      ],
      "execution_count": 252,
      "outputs": [
        {
          "output_type": "stream",
          "text": [
            "(14151, 13)\n",
            "0\n"
          ],
          "name": "stdout"
        }
      ]
    },
    {
      "cell_type": "code",
      "metadata": {
        "colab": {
          "base_uri": "https://localhost:8080/"
        },
        "id": "Daq18uwA7u8g",
        "outputId": "b9cc108c-7e90-4fef-8df2-12d379036f92"
      },
      "source": [
        "train[\"passenger_count\"].describe()"
      ],
      "execution_count": 253,
      "outputs": [
        {
          "output_type": "execute_result",
          "data": {
            "text/plain": [
              "count    14097.000000\n",
              "mean         2.755666\n",
              "std         64.842689\n",
              "min          0.000000\n",
              "25%          1.000000\n",
              "50%          1.000000\n",
              "75%          2.000000\n",
              "max       5345.000000\n",
              "Name: passenger_count, dtype: float64"
            ]
          },
          "metadata": {},
          "execution_count": 253
        }
      ]
    },
    {
      "cell_type": "code",
      "metadata": {
        "id": "I916aFm67w73"
      },
      "source": [
        "\n",
        "train = train.drop(train[train[\"passenger_count\"]> 6 ].index, axis=0)"
      ],
      "execution_count": 254,
      "outputs": []
    },
    {
      "cell_type": "code",
      "metadata": {
        "id": "MLo1VuyH7zLu"
      },
      "source": [
        "\n",
        "#Also removing the values with passenger count of 0.\n",
        "train = train.drop(train[train[\"passenger_count\"] == 0 ].index, axis=0)"
      ],
      "execution_count": 255,
      "outputs": []
    },
    {
      "cell_type": "code",
      "metadata": {
        "colab": {
          "base_uri": "https://localhost:8080/"
        },
        "id": "gFXaijAr720g",
        "outputId": "33e36a0d-5299-46a3-8a3e-c18cc6f03899"
      },
      "source": [
        "train[\"passenger_count\"].describe()\n"
      ],
      "execution_count": 256,
      "outputs": [
        {
          "output_type": "execute_result",
          "data": {
            "text/plain": [
              "count    14027.000000\n",
              "mean         1.646783\n",
              "std          1.263907\n",
              "min          0.120000\n",
              "25%          1.000000\n",
              "50%          1.000000\n",
              "75%          2.000000\n",
              "max          6.000000\n",
              "Name: passenger_count, dtype: float64"
            ]
          },
          "metadata": {},
          "execution_count": 256
        }
      ]
    },
    {
      "cell_type": "code",
      "metadata": {
        "colab": {
          "base_uri": "https://localhost:8080/"
        },
        "id": "x3eN2MWH73ts",
        "outputId": "c3f539c4-5c19-486a-d809-ed4154266838"
      },
      "source": [
        "train[\"passenger_count\"].sort_values(ascending= True)\n"
      ],
      "execution_count": 257,
      "outputs": [
        {
          "output_type": "execute_result",
          "data": {
            "text/plain": [
              "8862    0.12\n",
              "0       1.00\n",
              "8682    1.00\n",
              "8683    1.00\n",
              "8685    1.00\n",
              "        ... \n",
              "8007     NaN\n",
              "8076     NaN\n",
              "8139     NaN\n",
              "8259     NaN\n",
              "8306     NaN\n",
              "Name: passenger_count, Length: 14081, dtype: float64"
            ]
          },
          "metadata": {},
          "execution_count": 257
        }
      ]
    },
    {
      "cell_type": "code",
      "metadata": {
        "colab": {
          "base_uri": "https://localhost:8080/"
        },
        "id": "qvFv1mXJ75f5",
        "outputId": "07717a3b-07f8-497f-e310-887110a4198e"
      },
      "source": [
        "\n",
        "#removing passanger_count missing values rows\n",
        "train = train.drop(train[train['passenger_count'].isnull()].index, axis=0)\n",
        "print(train.shape)\n",
        "print(train['passenger_count'].isnull().sum())"
      ],
      "execution_count": 258,
      "outputs": [
        {
          "output_type": "stream",
          "text": [
            "(14027, 13)\n",
            "0\n"
          ],
          "name": "stdout"
        }
      ]
    },
    {
      "cell_type": "code",
      "metadata": {
        "colab": {
          "base_uri": "https://localhost:8080/"
        },
        "id": "rIfuwSLr79V2",
        "outputId": "89055347-1ecd-4e3f-f32c-096d0189f6ca"
      },
      "source": [
        "train = train.drop(train[train[\"passenger_count\"] == 0.12 ].index, axis=0)\n",
        "train.shape"
      ],
      "execution_count": 259,
      "outputs": [
        {
          "output_type": "execute_result",
          "data": {
            "text/plain": [
              "(14026, 13)"
            ]
          },
          "metadata": {},
          "execution_count": 259
        }
      ]
    },
    {
      "cell_type": "code",
      "metadata": {
        "colab": {
          "base_uri": "https://localhost:8080/"
        },
        "id": "dRj5jasE79dG",
        "outputId": "127fdd7a-3d42-47c5-fa25-7e4a6a8e558d"
      },
      "source": [
        "##finding decending order of fare to get to know whether the outliers are present or not\n",
        "train[\"fare_amount\"].sort_values(ascending=False)"
      ],
      "execution_count": 260,
      "outputs": [
        {
          "output_type": "execute_result",
          "data": {
            "text/plain": [
              "1015    54343.0\n",
              "1072     4343.0\n",
              "607       453.0\n",
              "980       434.0\n",
              "1335      180.0\n",
              "         ...   \n",
              "1712        NaN\n",
              "2412        NaN\n",
              "2458        NaN\n",
              "8178        NaN\n",
              "8226        NaN\n",
              "Name: fare_amount, Length: 14026, dtype: float64"
            ]
          },
          "metadata": {},
          "execution_count": 260
        }
      ]
    },
    {
      "cell_type": "code",
      "metadata": {
        "colab": {
          "base_uri": "https://localhost:8080/"
        },
        "id": "g2ECiGEs8CFq",
        "outputId": "eb845c54-98ec-4d52-9ff5-1acc295c1fb9"
      },
      "source": [
        "Counter(train[\"fare_amount\"]<0)\n"
      ],
      "execution_count": 261,
      "outputs": [
        {
          "output_type": "execute_result",
          "data": {
            "text/plain": [
              "Counter({False: 14022, True: 4})"
            ]
          },
          "metadata": {},
          "execution_count": 261
        }
      ]
    },
    {
      "cell_type": "code",
      "metadata": {
        "colab": {
          "base_uri": "https://localhost:8080/"
        },
        "id": "hzZtjSXR8F-5",
        "outputId": "c0cc48c8-470a-4eea-b720-dde84588709c"
      },
      "source": [
        "train = train.drop(train[train[\"fare_amount\"]<0].index, axis=0)\n",
        "train.shape"
      ],
      "execution_count": 262,
      "outputs": [
        {
          "output_type": "execute_result",
          "data": {
            "text/plain": [
              "(14022, 13)"
            ]
          },
          "metadata": {},
          "execution_count": 262
        }
      ]
    },
    {
      "cell_type": "code",
      "metadata": {
        "colab": {
          "base_uri": "https://localhost:8080/"
        },
        "id": "sB_DIaSN8GxW",
        "outputId": "dfbfd33d-25ac-4848-fed4-ad3e95a63418"
      },
      "source": [
        "##make sure there is no negative values in the fare_amount variable column\n",
        "train[\"fare_amount\"].min()"
      ],
      "execution_count": 263,
      "outputs": [
        {
          "output_type": "execute_result",
          "data": {
            "text/plain": [
              "0.0"
            ]
          },
          "metadata": {},
          "execution_count": 263
        }
      ]
    },
    {
      "cell_type": "code",
      "metadata": {
        "colab": {
          "base_uri": "https://localhost:8080/"
        },
        "id": "v2lcjWkn8KbL",
        "outputId": "88fd928a-d50e-4765-cd53-d2a62f7f13f0"
      },
      "source": [
        "#Also remove the row where fare amount is zero\n",
        "train = train.drop(train[train[\"fare_amount\"]<1].index, axis=0)\n",
        "train.shape"
      ],
      "execution_count": 264,
      "outputs": [
        {
          "output_type": "execute_result",
          "data": {
            "text/plain": [
              "(14020, 13)"
            ]
          },
          "metadata": {},
          "execution_count": 264
        }
      ]
    },
    {
      "cell_type": "code",
      "metadata": {
        "colab": {
          "base_uri": "https://localhost:8080/"
        },
        "id": "5K92BW8M8exk",
        "outputId": "961db233-4eab-438a-f84f-fb38e8f107df"
      },
      "source": [
        "#Now we can see that there is a huge difference in 1st 2nd and 3rd position in decending order of fare amount\n",
        "# so we will remove the rows having fare amounting more that 454 as considering them as outliers\n",
        "\n",
        "train = train.drop(train[train[\"fare_amount\"]> 454 ].index, axis=0)\n",
        "train.shape"
      ],
      "execution_count": 265,
      "outputs": [
        {
          "output_type": "execute_result",
          "data": {
            "text/plain": [
              "(14018, 13)"
            ]
          },
          "metadata": {},
          "execution_count": 265
        }
      ]
    },
    {
      "cell_type": "code",
      "metadata": {
        "colab": {
          "base_uri": "https://localhost:8080/"
        },
        "id": "ErzVqa_W8gkx",
        "outputId": "5f61f1d1-a4cb-4f64-fb75-e2804ef241ca"
      },
      "source": [
        "# eliminating rows for which value of \"fare_amount\" is missing\n",
        "train = train.drop(train[train['fare_amount'].isnull()].index, axis=0)\n",
        "print(train.shape)\n",
        "print(train['fare_amount'].isnull().sum())"
      ],
      "execution_count": 266,
      "outputs": [
        {
          "output_type": "stream",
          "text": [
            "(13995, 13)\n",
            "0\n"
          ],
          "name": "stdout"
        }
      ]
    },
    {
      "cell_type": "code",
      "metadata": {
        "colab": {
          "base_uri": "https://localhost:8080/"
        },
        "id": "pTpjRAfo8id8",
        "outputId": "74c3a944-6b4d-4007-ba28-acb199be829c"
      },
      "source": [
        "train[\"fare_amount\"].describe()\n"
      ],
      "execution_count": 267,
      "outputs": [
        {
          "output_type": "execute_result",
          "data": {
            "text/plain": [
              "count    13995.000000\n",
              "mean        11.400731\n",
              "std         11.039744\n",
              "min          1.140000\n",
              "25%          6.000000\n",
              "50%          8.500000\n",
              "75%         12.500000\n",
              "max        453.000000\n",
              "Name: fare_amount, dtype: float64"
            ]
          },
          "metadata": {},
          "execution_count": 267
        }
      ]
    },
    {
      "cell_type": "code",
      "metadata": {
        "colab": {
          "base_uri": "https://localhost:8080/",
          "height": 79
        },
        "id": "-0Yg2tE18k5n",
        "outputId": "b808d5ed-d0db-496a-ea2d-c8587057a76e"
      },
      "source": [
        "#Lattitude----(-90 to 90)\n",
        "#Longitude----(-180 to 180)\n",
        "\n",
        "# we need to drop the rows having  pickup lattitute and longitute out the range mentioned above\n",
        "\n",
        "#train = train.drop(train[train['pickup_latitude']<-90])\n",
        "train[train['pickup_latitude']<-90]\n",
        "train[train['pickup_latitude']>90]"
      ],
      "execution_count": 268,
      "outputs": [
        {
          "output_type": "execute_result",
          "data": {
            "text/html": [
              "<div>\n",
              "<style scoped>\n",
              "    .dataframe tbody tr th:only-of-type {\n",
              "        vertical-align: middle;\n",
              "    }\n",
              "\n",
              "    .dataframe tbody tr th {\n",
              "        vertical-align: top;\n",
              "    }\n",
              "\n",
              "    .dataframe thead th {\n",
              "        text-align: right;\n",
              "    }\n",
              "</style>\n",
              "<table border=\"1\" class=\"dataframe\">\n",
              "  <thead>\n",
              "    <tr style=\"text-align: right;\">\n",
              "      <th></th>\n",
              "      <th>fare_amount</th>\n",
              "      <th>pickup_datetime</th>\n",
              "      <th>pickup_longitude</th>\n",
              "      <th>pickup_latitude</th>\n",
              "      <th>dropoff_longitude</th>\n",
              "      <th>dropoff_latitude</th>\n",
              "      <th>passenger_count</th>\n",
              "      <th>year</th>\n",
              "      <th>Month</th>\n",
              "      <th>Date</th>\n",
              "      <th>Day</th>\n",
              "      <th>Hour</th>\n",
              "      <th>Minute</th>\n",
              "    </tr>\n",
              "  </thead>\n",
              "  <tbody>\n",
              "    <tr>\n",
              "      <th>5686</th>\n",
              "      <td>3.3</td>\n",
              "      <td>2011-07-30 11:15:00</td>\n",
              "      <td>-73.947235</td>\n",
              "      <td>401.083332</td>\n",
              "      <td>-73.951392</td>\n",
              "      <td>40.778927</td>\n",
              "      <td>1.0</td>\n",
              "      <td>2011.0</td>\n",
              "      <td>7.0</td>\n",
              "      <td>30.0</td>\n",
              "      <td>5.0</td>\n",
              "      <td>11.0</td>\n",
              "      <td>15.0</td>\n",
              "    </tr>\n",
              "  </tbody>\n",
              "</table>\n",
              "</div>"
            ],
            "text/plain": [
              "      fare_amount     pickup_datetime  pickup_longitude  ...  Day  Hour  Minute\n",
              "5686          3.3 2011-07-30 11:15:00        -73.947235  ...  5.0  11.0    15.0\n",
              "\n",
              "[1 rows x 13 columns]"
            ]
          },
          "metadata": {},
          "execution_count": 268
        }
      ]
    },
    {
      "cell_type": "code",
      "metadata": {
        "id": "dv6Vc30S8mi3"
      },
      "source": [
        "\n",
        "#Hence dropping one value of >90\n",
        "train = train.drop((train[train['pickup_latitude']<-90]).index, axis=0)\n",
        "train = train.drop((train[train['pickup_latitude']>90]).index, axis=0)\n"
      ],
      "execution_count": 269,
      "outputs": []
    },
    {
      "cell_type": "code",
      "metadata": {
        "colab": {
          "base_uri": "https://localhost:8080/",
          "height": 48
        },
        "id": "foWierfL8qSH",
        "outputId": "75877fe7-3dd7-469e-910b-c1675764f5a9"
      },
      "source": [
        "train[train['pickup_longitude']<-180]\n",
        "train[train['pickup_longitude']>180]"
      ],
      "execution_count": 270,
      "outputs": [
        {
          "output_type": "execute_result",
          "data": {
            "text/html": [
              "<div>\n",
              "<style scoped>\n",
              "    .dataframe tbody tr th:only-of-type {\n",
              "        vertical-align: middle;\n",
              "    }\n",
              "\n",
              "    .dataframe tbody tr th {\n",
              "        vertical-align: top;\n",
              "    }\n",
              "\n",
              "    .dataframe thead th {\n",
              "        text-align: right;\n",
              "    }\n",
              "</style>\n",
              "<table border=\"1\" class=\"dataframe\">\n",
              "  <thead>\n",
              "    <tr style=\"text-align: right;\">\n",
              "      <th></th>\n",
              "      <th>fare_amount</th>\n",
              "      <th>pickup_datetime</th>\n",
              "      <th>pickup_longitude</th>\n",
              "      <th>pickup_latitude</th>\n",
              "      <th>dropoff_longitude</th>\n",
              "      <th>dropoff_latitude</th>\n",
              "      <th>passenger_count</th>\n",
              "      <th>year</th>\n",
              "      <th>Month</th>\n",
              "      <th>Date</th>\n",
              "      <th>Day</th>\n",
              "      <th>Hour</th>\n",
              "      <th>Minute</th>\n",
              "    </tr>\n",
              "  </thead>\n",
              "  <tbody>\n",
              "  </tbody>\n",
              "</table>\n",
              "</div>"
            ],
            "text/plain": [
              "Empty DataFrame\n",
              "Columns: [fare_amount, pickup_datetime, pickup_longitude, pickup_latitude, dropoff_longitude, dropoff_latitude, passenger_count, year, Month, Date, Day, Hour, Minute]\n",
              "Index: []"
            ]
          },
          "metadata": {},
          "execution_count": 270
        }
      ]
    },
    {
      "cell_type": "code",
      "metadata": {
        "colab": {
          "base_uri": "https://localhost:8080/",
          "height": 48
        },
        "id": "D_3OaW3E8sxe",
        "outputId": "e8263295-8ced-4237-d627-70c5bf7264b6"
      },
      "source": [
        "train[train['dropoff_latitude']<-90]\n",
        "train[train['dropoff_latitude']>90]"
      ],
      "execution_count": 271,
      "outputs": [
        {
          "output_type": "execute_result",
          "data": {
            "text/html": [
              "<div>\n",
              "<style scoped>\n",
              "    .dataframe tbody tr th:only-of-type {\n",
              "        vertical-align: middle;\n",
              "    }\n",
              "\n",
              "    .dataframe tbody tr th {\n",
              "        vertical-align: top;\n",
              "    }\n",
              "\n",
              "    .dataframe thead th {\n",
              "        text-align: right;\n",
              "    }\n",
              "</style>\n",
              "<table border=\"1\" class=\"dataframe\">\n",
              "  <thead>\n",
              "    <tr style=\"text-align: right;\">\n",
              "      <th></th>\n",
              "      <th>fare_amount</th>\n",
              "      <th>pickup_datetime</th>\n",
              "      <th>pickup_longitude</th>\n",
              "      <th>pickup_latitude</th>\n",
              "      <th>dropoff_longitude</th>\n",
              "      <th>dropoff_latitude</th>\n",
              "      <th>passenger_count</th>\n",
              "      <th>year</th>\n",
              "      <th>Month</th>\n",
              "      <th>Date</th>\n",
              "      <th>Day</th>\n",
              "      <th>Hour</th>\n",
              "      <th>Minute</th>\n",
              "    </tr>\n",
              "  </thead>\n",
              "  <tbody>\n",
              "  </tbody>\n",
              "</table>\n",
              "</div>"
            ],
            "text/plain": [
              "Empty DataFrame\n",
              "Columns: [fare_amount, pickup_datetime, pickup_longitude, pickup_latitude, dropoff_longitude, dropoff_latitude, passenger_count, year, Month, Date, Day, Hour, Minute]\n",
              "Index: []"
            ]
          },
          "metadata": {},
          "execution_count": 271
        }
      ]
    },
    {
      "cell_type": "code",
      "metadata": {
        "colab": {
          "base_uri": "https://localhost:8080/",
          "height": 48
        },
        "id": "0Fe3N5GJ8vgv",
        "outputId": "3d675cf3-14f1-4dc0-9485-694fdc4d416d"
      },
      "source": [
        "\n",
        "train[train['dropoff_longitude']<-180]\n",
        "train[train['dropoff_longitude']>180]"
      ],
      "execution_count": 272,
      "outputs": [
        {
          "output_type": "execute_result",
          "data": {
            "text/html": [
              "<div>\n",
              "<style scoped>\n",
              "    .dataframe tbody tr th:only-of-type {\n",
              "        vertical-align: middle;\n",
              "    }\n",
              "\n",
              "    .dataframe tbody tr th {\n",
              "        vertical-align: top;\n",
              "    }\n",
              "\n",
              "    .dataframe thead th {\n",
              "        text-align: right;\n",
              "    }\n",
              "</style>\n",
              "<table border=\"1\" class=\"dataframe\">\n",
              "  <thead>\n",
              "    <tr style=\"text-align: right;\">\n",
              "      <th></th>\n",
              "      <th>fare_amount</th>\n",
              "      <th>pickup_datetime</th>\n",
              "      <th>pickup_longitude</th>\n",
              "      <th>pickup_latitude</th>\n",
              "      <th>dropoff_longitude</th>\n",
              "      <th>dropoff_latitude</th>\n",
              "      <th>passenger_count</th>\n",
              "      <th>year</th>\n",
              "      <th>Month</th>\n",
              "      <th>Date</th>\n",
              "      <th>Day</th>\n",
              "      <th>Hour</th>\n",
              "      <th>Minute</th>\n",
              "    </tr>\n",
              "  </thead>\n",
              "  <tbody>\n",
              "  </tbody>\n",
              "</table>\n",
              "</div>"
            ],
            "text/plain": [
              "Empty DataFrame\n",
              "Columns: [fare_amount, pickup_datetime, pickup_longitude, pickup_latitude, dropoff_longitude, dropoff_latitude, passenger_count, year, Month, Date, Day, Hour, Minute]\n",
              "Index: []"
            ]
          },
          "metadata": {},
          "execution_count": 272
        }
      ]
    },
    {
      "cell_type": "code",
      "metadata": {
        "colab": {
          "base_uri": "https://localhost:8080/"
        },
        "id": "-buIRU1E8xco",
        "outputId": "5095bd50-1969-4449-c19e-5570731ad45a"
      },
      "source": [
        "train.shape\n"
      ],
      "execution_count": 273,
      "outputs": [
        {
          "output_type": "execute_result",
          "data": {
            "text/plain": [
              "(13994, 13)"
            ]
          },
          "metadata": {},
          "execution_count": 273
        }
      ]
    },
    {
      "cell_type": "code",
      "metadata": {
        "colab": {
          "base_uri": "https://localhost:8080/"
        },
        "id": "-f2g8dWB805B",
        "outputId": "0201b2ed-9353-496f-e8bc-189d4913457f"
      },
      "source": [
        "train.isnull().sum()"
      ],
      "execution_count": 274,
      "outputs": [
        {
          "output_type": "execute_result",
          "data": {
            "text/plain": [
              "fare_amount          0\n",
              "pickup_datetime      0\n",
              "pickup_longitude     0\n",
              "pickup_latitude      0\n",
              "dropoff_longitude    0\n",
              "dropoff_latitude     0\n",
              "passenger_count      0\n",
              "year                 0\n",
              "Month                0\n",
              "Date                 0\n",
              "Day                  0\n",
              "Hour                 0\n",
              "Minute               0\n",
              "dtype: int64"
            ]
          },
          "metadata": {},
          "execution_count": 274
        }
      ]
    },
    {
      "cell_type": "code",
      "metadata": {
        "colab": {
          "base_uri": "https://localhost:8080/"
        },
        "id": "a0pAjf0L821y",
        "outputId": "7345a9de-b461-4a3e-950e-144122ae0405"
      },
      "source": [
        "test.isnull().sum()"
      ],
      "execution_count": 275,
      "outputs": [
        {
          "output_type": "execute_result",
          "data": {
            "text/plain": [
              "Unnamed: 0           6152\n",
              "pickup_datetime         0\n",
              "pickup_longitude        0\n",
              "pickup_latitude         0\n",
              "dropoff_longitude       0\n",
              "dropoff_latitude        0\n",
              "passenger_count         0\n",
              "year                    0\n",
              "Month                   0\n",
              "Date                    0\n",
              "Day                     0\n",
              "Hour                    0\n",
              "Minute                  0\n",
              "dtype: int64"
            ]
          },
          "metadata": {},
          "execution_count": 275
        }
      ]
    },
    {
      "cell_type": "code",
      "metadata": {
        "id": "SiIYhUGr81oh"
      },
      "source": [
        "#As we know that we have given pickup longitute and latitude values and same for drop. \n",
        "#So we need to calculate the distance Using the haversine formula and we will create a new variable called distance\n",
        "from math import radians, cos, sin, asin, sqrt\n",
        "\n",
        "def haversine(a):\n",
        "    lon1=a[0]\n",
        "    lat1=a[1]\n",
        "    lon2=a[2]\n",
        "    lat2=a[3]\n",
        "    \"\"\"\n",
        "    Calculate the great circle distance between two points \n",
        "    on the earth (specified in decimal degrees)\n",
        "    \"\"\"\n",
        "    # convert decimal degrees to radians \n",
        "    lon1, lat1, lon2, lat2 = map(radians, [lon1, lat1, lon2, lat2])\n",
        "    \n",
        "    # haversine formula \n",
        "    dlon = lon2 - lon1 \n",
        "    dlat = lat2 - lat1 \n",
        "    a = sin(dlat/2)**2 + cos(lat1) * cos(lat2) * sin(dlon/2)**2\n",
        "    c =  2 * asin(sqrt(a))\n",
        "    # Radius of earth in kilometers is 6371\n",
        "    km = 6371* c\n",
        "    return km\n",
        "# 1min"
      ],
      "execution_count": 276,
      "outputs": []
    },
    {
      "cell_type": "code",
      "metadata": {
        "id": "2hwyC-qa8-43"
      },
      "source": [
        "train['distance'] = train[['pickup_longitude','pickup_latitude','dropoff_longitude','dropoff_latitude']].apply(haversine,axis=1)"
      ],
      "execution_count": 277,
      "outputs": []
    },
    {
      "cell_type": "code",
      "metadata": {
        "id": "qj4ONWoo9AsQ"
      },
      "source": [
        "test['distance'] = test[['pickup_longitude','pickup_latitude','dropoff_longitude','dropoff_latitude']].apply(haversine,axis=1)"
      ],
      "execution_count": 278,
      "outputs": []
    },
    {
      "cell_type": "code",
      "metadata": {
        "colab": {
          "base_uri": "https://localhost:8080/",
          "height": 202
        },
        "id": "QrWbdQ2z9C84",
        "outputId": "53838eaf-403e-4eb4-cdc4-a30b65e5bb6f"
      },
      "source": [
        "train.head()"
      ],
      "execution_count": 279,
      "outputs": [
        {
          "output_type": "execute_result",
          "data": {
            "text/html": [
              "<div>\n",
              "<style scoped>\n",
              "    .dataframe tbody tr th:only-of-type {\n",
              "        vertical-align: middle;\n",
              "    }\n",
              "\n",
              "    .dataframe tbody tr th {\n",
              "        vertical-align: top;\n",
              "    }\n",
              "\n",
              "    .dataframe thead th {\n",
              "        text-align: right;\n",
              "    }\n",
              "</style>\n",
              "<table border=\"1\" class=\"dataframe\">\n",
              "  <thead>\n",
              "    <tr style=\"text-align: right;\">\n",
              "      <th></th>\n",
              "      <th>fare_amount</th>\n",
              "      <th>pickup_datetime</th>\n",
              "      <th>pickup_longitude</th>\n",
              "      <th>pickup_latitude</th>\n",
              "      <th>dropoff_longitude</th>\n",
              "      <th>dropoff_latitude</th>\n",
              "      <th>passenger_count</th>\n",
              "      <th>year</th>\n",
              "      <th>Month</th>\n",
              "      <th>Date</th>\n",
              "      <th>Day</th>\n",
              "      <th>Hour</th>\n",
              "      <th>Minute</th>\n",
              "      <th>distance</th>\n",
              "    </tr>\n",
              "  </thead>\n",
              "  <tbody>\n",
              "    <tr>\n",
              "      <th>0</th>\n",
              "      <td>4.5</td>\n",
              "      <td>2009-06-15 17:26:21</td>\n",
              "      <td>-73.844311</td>\n",
              "      <td>40.721319</td>\n",
              "      <td>-73.841610</td>\n",
              "      <td>40.712278</td>\n",
              "      <td>1.0</td>\n",
              "      <td>2009.0</td>\n",
              "      <td>6.0</td>\n",
              "      <td>15.0</td>\n",
              "      <td>0.0</td>\n",
              "      <td>17.0</td>\n",
              "      <td>26.0</td>\n",
              "      <td>1.030764</td>\n",
              "    </tr>\n",
              "    <tr>\n",
              "      <th>1</th>\n",
              "      <td>16.9</td>\n",
              "      <td>2010-01-05 16:52:16</td>\n",
              "      <td>-74.016048</td>\n",
              "      <td>40.711303</td>\n",
              "      <td>-73.979268</td>\n",
              "      <td>40.782004</td>\n",
              "      <td>1.0</td>\n",
              "      <td>2010.0</td>\n",
              "      <td>1.0</td>\n",
              "      <td>5.0</td>\n",
              "      <td>1.0</td>\n",
              "      <td>16.0</td>\n",
              "      <td>52.0</td>\n",
              "      <td>8.450134</td>\n",
              "    </tr>\n",
              "    <tr>\n",
              "      <th>2</th>\n",
              "      <td>5.7</td>\n",
              "      <td>2011-08-18 00:35:00</td>\n",
              "      <td>-73.982738</td>\n",
              "      <td>40.761270</td>\n",
              "      <td>-73.991242</td>\n",
              "      <td>40.750562</td>\n",
              "      <td>2.0</td>\n",
              "      <td>2011.0</td>\n",
              "      <td>8.0</td>\n",
              "      <td>18.0</td>\n",
              "      <td>3.0</td>\n",
              "      <td>0.0</td>\n",
              "      <td>35.0</td>\n",
              "      <td>1.389525</td>\n",
              "    </tr>\n",
              "    <tr>\n",
              "      <th>3</th>\n",
              "      <td>7.7</td>\n",
              "      <td>2012-04-21 04:30:42</td>\n",
              "      <td>-73.987130</td>\n",
              "      <td>40.733143</td>\n",
              "      <td>-73.991567</td>\n",
              "      <td>40.758092</td>\n",
              "      <td>1.0</td>\n",
              "      <td>2012.0</td>\n",
              "      <td>4.0</td>\n",
              "      <td>21.0</td>\n",
              "      <td>5.0</td>\n",
              "      <td>4.0</td>\n",
              "      <td>30.0</td>\n",
              "      <td>2.799270</td>\n",
              "    </tr>\n",
              "    <tr>\n",
              "      <th>4</th>\n",
              "      <td>5.3</td>\n",
              "      <td>2010-03-09 07:51:00</td>\n",
              "      <td>-73.968095</td>\n",
              "      <td>40.768008</td>\n",
              "      <td>-73.956655</td>\n",
              "      <td>40.783762</td>\n",
              "      <td>1.0</td>\n",
              "      <td>2010.0</td>\n",
              "      <td>3.0</td>\n",
              "      <td>9.0</td>\n",
              "      <td>1.0</td>\n",
              "      <td>7.0</td>\n",
              "      <td>51.0</td>\n",
              "      <td>1.999157</td>\n",
              "    </tr>\n",
              "  </tbody>\n",
              "</table>\n",
              "</div>"
            ],
            "text/plain": [
              "   fare_amount     pickup_datetime  pickup_longitude  ...  Hour  Minute  distance\n",
              "0          4.5 2009-06-15 17:26:21        -73.844311  ...  17.0    26.0  1.030764\n",
              "1         16.9 2010-01-05 16:52:16        -74.016048  ...  16.0    52.0  8.450134\n",
              "2          5.7 2011-08-18 00:35:00        -73.982738  ...   0.0    35.0  1.389525\n",
              "3          7.7 2012-04-21 04:30:42        -73.987130  ...   4.0    30.0  2.799270\n",
              "4          5.3 2010-03-09 07:51:00        -73.968095  ...   7.0    51.0  1.999157\n",
              "\n",
              "[5 rows x 14 columns]"
            ]
          },
          "metadata": {},
          "execution_count": 279
        }
      ]
    },
    {
      "cell_type": "code",
      "metadata": {
        "colab": {
          "base_uri": "https://localhost:8080/",
          "height": 202
        },
        "id": "VM-9_fKK9FCh",
        "outputId": "0b79e97c-49b5-4ddc-f661-6b9869d28a41"
      },
      "source": [
        "\n",
        "test.head()"
      ],
      "execution_count": 280,
      "outputs": [
        {
          "output_type": "execute_result",
          "data": {
            "text/html": [
              "<div>\n",
              "<style scoped>\n",
              "    .dataframe tbody tr th:only-of-type {\n",
              "        vertical-align: middle;\n",
              "    }\n",
              "\n",
              "    .dataframe tbody tr th {\n",
              "        vertical-align: top;\n",
              "    }\n",
              "\n",
              "    .dataframe thead th {\n",
              "        text-align: right;\n",
              "    }\n",
              "</style>\n",
              "<table border=\"1\" class=\"dataframe\">\n",
              "  <thead>\n",
              "    <tr style=\"text-align: right;\">\n",
              "      <th></th>\n",
              "      <th>Unnamed: 0</th>\n",
              "      <th>pickup_datetime</th>\n",
              "      <th>pickup_longitude</th>\n",
              "      <th>pickup_latitude</th>\n",
              "      <th>dropoff_longitude</th>\n",
              "      <th>dropoff_latitude</th>\n",
              "      <th>passenger_count</th>\n",
              "      <th>year</th>\n",
              "      <th>Month</th>\n",
              "      <th>Date</th>\n",
              "      <th>Day</th>\n",
              "      <th>Hour</th>\n",
              "      <th>Minute</th>\n",
              "      <th>distance</th>\n",
              "    </tr>\n",
              "  </thead>\n",
              "  <tbody>\n",
              "    <tr>\n",
              "      <th>0</th>\n",
              "      <td>NaN</td>\n",
              "      <td>2015-01-27 13:08:24</td>\n",
              "      <td>-73.973320</td>\n",
              "      <td>40.763805</td>\n",
              "      <td>-73.981430</td>\n",
              "      <td>40.743835</td>\n",
              "      <td>1</td>\n",
              "      <td>2015</td>\n",
              "      <td>1</td>\n",
              "      <td>27</td>\n",
              "      <td>1</td>\n",
              "      <td>13</td>\n",
              "      <td>8</td>\n",
              "      <td>2.323259</td>\n",
              "    </tr>\n",
              "    <tr>\n",
              "      <th>1</th>\n",
              "      <td>NaN</td>\n",
              "      <td>2015-01-27 13:08:24</td>\n",
              "      <td>-73.986862</td>\n",
              "      <td>40.719383</td>\n",
              "      <td>-73.998886</td>\n",
              "      <td>40.739201</td>\n",
              "      <td>1</td>\n",
              "      <td>2015</td>\n",
              "      <td>1</td>\n",
              "      <td>27</td>\n",
              "      <td>1</td>\n",
              "      <td>13</td>\n",
              "      <td>8</td>\n",
              "      <td>2.425353</td>\n",
              "    </tr>\n",
              "    <tr>\n",
              "      <th>2</th>\n",
              "      <td>NaN</td>\n",
              "      <td>2011-10-08 11:53:44</td>\n",
              "      <td>-73.982524</td>\n",
              "      <td>40.751260</td>\n",
              "      <td>-73.979654</td>\n",
              "      <td>40.746139</td>\n",
              "      <td>1</td>\n",
              "      <td>2011</td>\n",
              "      <td>10</td>\n",
              "      <td>8</td>\n",
              "      <td>5</td>\n",
              "      <td>11</td>\n",
              "      <td>53</td>\n",
              "      <td>0.618628</td>\n",
              "    </tr>\n",
              "    <tr>\n",
              "      <th>3</th>\n",
              "      <td>NaN</td>\n",
              "      <td>2012-12-01 21:12:12</td>\n",
              "      <td>-73.981160</td>\n",
              "      <td>40.767807</td>\n",
              "      <td>-73.990448</td>\n",
              "      <td>40.751635</td>\n",
              "      <td>1</td>\n",
              "      <td>2012</td>\n",
              "      <td>12</td>\n",
              "      <td>1</td>\n",
              "      <td>5</td>\n",
              "      <td>21</td>\n",
              "      <td>12</td>\n",
              "      <td>1.961033</td>\n",
              "    </tr>\n",
              "    <tr>\n",
              "      <th>4</th>\n",
              "      <td>NaN</td>\n",
              "      <td>2012-12-01 21:12:12</td>\n",
              "      <td>-73.966046</td>\n",
              "      <td>40.789775</td>\n",
              "      <td>-73.988565</td>\n",
              "      <td>40.744427</td>\n",
              "      <td>1</td>\n",
              "      <td>2012</td>\n",
              "      <td>12</td>\n",
              "      <td>1</td>\n",
              "      <td>5</td>\n",
              "      <td>21</td>\n",
              "      <td>12</td>\n",
              "      <td>5.387301</td>\n",
              "    </tr>\n",
              "  </tbody>\n",
              "</table>\n",
              "</div>"
            ],
            "text/plain": [
              "   Unnamed: 0     pickup_datetime  pickup_longitude  ...  Hour  Minute  distance\n",
              "0         NaN 2015-01-27 13:08:24        -73.973320  ...    13       8  2.323259\n",
              "1         NaN 2015-01-27 13:08:24        -73.986862  ...    13       8  2.425353\n",
              "2         NaN 2011-10-08 11:53:44        -73.982524  ...    11      53  0.618628\n",
              "3         NaN 2012-12-01 21:12:12        -73.981160  ...    21      12  1.961033\n",
              "4         NaN 2012-12-01 21:12:12        -73.966046  ...    21      12  5.387301\n",
              "\n",
              "[5 rows x 14 columns]"
            ]
          },
          "metadata": {},
          "execution_count": 280
        }
      ]
    },
    {
      "cell_type": "code",
      "metadata": {
        "colab": {
          "base_uri": "https://localhost:8080/"
        },
        "id": "3hJCD7n19HPj",
        "outputId": "e70912d5-a3bd-40ce-f7ab-f3cd5be1e3e5"
      },
      "source": [
        "train.nunique()"
      ],
      "execution_count": 281,
      "outputs": [
        {
          "output_type": "execute_result",
          "data": {
            "text/plain": [
              "fare_amount            435\n",
              "pickup_datetime      13964\n",
              "pickup_longitude     12195\n",
              "pickup_latitude      12582\n",
              "dropoff_longitude    12298\n",
              "dropoff_latitude     12610\n",
              "passenger_count          7\n",
              "year                     7\n",
              "Month                   12\n",
              "Date                    31\n",
              "Day                      7\n",
              "Hour                    24\n",
              "Minute                  60\n",
              "distance             13592\n",
              "dtype: int64"
            ]
          },
          "metadata": {},
          "execution_count": 281
        }
      ]
    },
    {
      "cell_type": "code",
      "metadata": {
        "colab": {
          "base_uri": "https://localhost:8080/"
        },
        "id": "RU5hbIiF9JGk",
        "outputId": "3f9ecc00-336d-4612-af86-1cbe2529b724"
      },
      "source": [
        "test.nunique()"
      ],
      "execution_count": 282,
      "outputs": [
        {
          "output_type": "execute_result",
          "data": {
            "text/plain": [
              "Unnamed: 0              0\n",
              "pickup_datetime      1385\n",
              "pickup_longitude     5866\n",
              "pickup_latitude      5888\n",
              "dropoff_longitude    5856\n",
              "dropoff_latitude     5942\n",
              "passenger_count         1\n",
              "year                    7\n",
              "Month                  12\n",
              "Date                   31\n",
              "Day                     7\n",
              "Hour                   24\n",
              "Minute                 60\n",
              "distance             6102\n",
              "dtype: int64"
            ]
          },
          "metadata": {},
          "execution_count": 282
        }
      ]
    },
    {
      "cell_type": "code",
      "metadata": {
        "colab": {
          "base_uri": "https://localhost:8080/"
        },
        "id": "cr4_igBF9LLh",
        "outputId": "8fc0c101-8446-458f-a99c-38fa03c4c41e"
      },
      "source": [
        "##finding decending order of fare to get to know whether the outliers are presented or not\n",
        "train['distance'].sort_values(ascending=False)"
      ],
      "execution_count": 283,
      "outputs": [
        {
          "output_type": "execute_result",
          "data": {
            "text/plain": [
              "9147     8667.542104\n",
              "8647     8667.497512\n",
              "2397     8667.454421\n",
              "472      8667.304968\n",
              "11653    8666.701504\n",
              "            ...     \n",
              "4662        0.000000\n",
              "1637        0.000000\n",
              "10261       0.000000\n",
              "1630        0.000000\n",
              "7408        0.000000\n",
              "Name: distance, Length: 13994, dtype: float64"
            ]
          },
          "metadata": {},
          "execution_count": 283
        }
      ]
    },
    {
      "cell_type": "code",
      "metadata": {
        "colab": {
          "base_uri": "https://localhost:8080/"
        },
        "id": "r3oT8W_b9OAz",
        "outputId": "f4844140-1710-4db6-ad66-a3bd84fdb8a0"
      },
      "source": [
        "\n",
        "Counter(train['distance'] == 0)"
      ],
      "execution_count": 284,
      "outputs": [
        {
          "output_type": "execute_result",
          "data": {
            "text/plain": [
              "Counter({False: 13591, True: 403})"
            ]
          },
          "metadata": {},
          "execution_count": 284
        }
      ]
    },
    {
      "cell_type": "code",
      "metadata": {
        "colab": {
          "base_uri": "https://localhost:8080/"
        },
        "id": "4wkq6kLn9OnU",
        "outputId": "6d874a37-0665-4f5f-f0ed-71d8a8f9bbe4"
      },
      "source": [
        "Counter(test['distance'] == 0)"
      ],
      "execution_count": 285,
      "outputs": [
        {
          "output_type": "execute_result",
          "data": {
            "text/plain": [
              "Counter({False: 6101, True: 51})"
            ]
          },
          "metadata": {},
          "execution_count": 285
        }
      ]
    },
    {
      "cell_type": "code",
      "metadata": {
        "colab": {
          "base_uri": "https://localhost:8080/"
        },
        "id": "ftieLxk69QLv",
        "outputId": "ea61ff88-5b22-42ab-9afc-94c681d09525"
      },
      "source": [
        "\n",
        "Counter(train['fare_amount'] == 0)"
      ],
      "execution_count": 286,
      "outputs": [
        {
          "output_type": "execute_result",
          "data": {
            "text/plain": [
              "Counter({False: 13994})"
            ]
          },
          "metadata": {},
          "execution_count": 286
        }
      ]
    },
    {
      "cell_type": "code",
      "metadata": {
        "colab": {
          "base_uri": "https://localhost:8080/"
        },
        "id": "hjZpk_iE9Sms",
        "outputId": "2c621e75-a6cb-4722-fd63-c389c6bed660"
      },
      "source": [
        "\n",
        "###we will remove the rows whose distance value is zero\n",
        "\n",
        "train = train.drop(train[train['distance']== 0].index, axis=0)\n",
        "train.shape"
      ],
      "execution_count": 287,
      "outputs": [
        {
          "output_type": "execute_result",
          "data": {
            "text/plain": [
              "(13591, 14)"
            ]
          },
          "metadata": {},
          "execution_count": 287
        }
      ]
    },
    {
      "cell_type": "code",
      "metadata": {
        "colab": {
          "base_uri": "https://localhost:8080/"
        },
        "id": "YEumuGCr9T9x",
        "outputId": "8d1568bf-4d4f-41c4-abd0-4ff2a5746ad7"
      },
      "source": [
        "#we will remove the rows whose distance values is very high which is more than 129kms\n",
        "train = train.drop(train[train['distance'] > 130 ].index, axis=0)\n",
        "train.shape"
      ],
      "execution_count": 288,
      "outputs": [
        {
          "output_type": "execute_result",
          "data": {
            "text/plain": [
              "(13571, 14)"
            ]
          },
          "metadata": {},
          "execution_count": 288
        }
      ]
    },
    {
      "cell_type": "code",
      "metadata": {
        "colab": {
          "base_uri": "https://localhost:8080/",
          "height": 202
        },
        "id": "zHHRj8y49ayf",
        "outputId": "d24e6ee9-9765-41d0-f6c3-08a0368f4cad"
      },
      "source": [
        "train.head()"
      ],
      "execution_count": 289,
      "outputs": [
        {
          "output_type": "execute_result",
          "data": {
            "text/html": [
              "<div>\n",
              "<style scoped>\n",
              "    .dataframe tbody tr th:only-of-type {\n",
              "        vertical-align: middle;\n",
              "    }\n",
              "\n",
              "    .dataframe tbody tr th {\n",
              "        vertical-align: top;\n",
              "    }\n",
              "\n",
              "    .dataframe thead th {\n",
              "        text-align: right;\n",
              "    }\n",
              "</style>\n",
              "<table border=\"1\" class=\"dataframe\">\n",
              "  <thead>\n",
              "    <tr style=\"text-align: right;\">\n",
              "      <th></th>\n",
              "      <th>fare_amount</th>\n",
              "      <th>pickup_datetime</th>\n",
              "      <th>pickup_longitude</th>\n",
              "      <th>pickup_latitude</th>\n",
              "      <th>dropoff_longitude</th>\n",
              "      <th>dropoff_latitude</th>\n",
              "      <th>passenger_count</th>\n",
              "      <th>year</th>\n",
              "      <th>Month</th>\n",
              "      <th>Date</th>\n",
              "      <th>Day</th>\n",
              "      <th>Hour</th>\n",
              "      <th>Minute</th>\n",
              "      <th>distance</th>\n",
              "    </tr>\n",
              "  </thead>\n",
              "  <tbody>\n",
              "    <tr>\n",
              "      <th>0</th>\n",
              "      <td>4.5</td>\n",
              "      <td>2009-06-15 17:26:21</td>\n",
              "      <td>-73.844311</td>\n",
              "      <td>40.721319</td>\n",
              "      <td>-73.841610</td>\n",
              "      <td>40.712278</td>\n",
              "      <td>1.0</td>\n",
              "      <td>2009.0</td>\n",
              "      <td>6.0</td>\n",
              "      <td>15.0</td>\n",
              "      <td>0.0</td>\n",
              "      <td>17.0</td>\n",
              "      <td>26.0</td>\n",
              "      <td>1.030764</td>\n",
              "    </tr>\n",
              "    <tr>\n",
              "      <th>1</th>\n",
              "      <td>16.9</td>\n",
              "      <td>2010-01-05 16:52:16</td>\n",
              "      <td>-74.016048</td>\n",
              "      <td>40.711303</td>\n",
              "      <td>-73.979268</td>\n",
              "      <td>40.782004</td>\n",
              "      <td>1.0</td>\n",
              "      <td>2010.0</td>\n",
              "      <td>1.0</td>\n",
              "      <td>5.0</td>\n",
              "      <td>1.0</td>\n",
              "      <td>16.0</td>\n",
              "      <td>52.0</td>\n",
              "      <td>8.450134</td>\n",
              "    </tr>\n",
              "    <tr>\n",
              "      <th>2</th>\n",
              "      <td>5.7</td>\n",
              "      <td>2011-08-18 00:35:00</td>\n",
              "      <td>-73.982738</td>\n",
              "      <td>40.761270</td>\n",
              "      <td>-73.991242</td>\n",
              "      <td>40.750562</td>\n",
              "      <td>2.0</td>\n",
              "      <td>2011.0</td>\n",
              "      <td>8.0</td>\n",
              "      <td>18.0</td>\n",
              "      <td>3.0</td>\n",
              "      <td>0.0</td>\n",
              "      <td>35.0</td>\n",
              "      <td>1.389525</td>\n",
              "    </tr>\n",
              "    <tr>\n",
              "      <th>3</th>\n",
              "      <td>7.7</td>\n",
              "      <td>2012-04-21 04:30:42</td>\n",
              "      <td>-73.987130</td>\n",
              "      <td>40.733143</td>\n",
              "      <td>-73.991567</td>\n",
              "      <td>40.758092</td>\n",
              "      <td>1.0</td>\n",
              "      <td>2012.0</td>\n",
              "      <td>4.0</td>\n",
              "      <td>21.0</td>\n",
              "      <td>5.0</td>\n",
              "      <td>4.0</td>\n",
              "      <td>30.0</td>\n",
              "      <td>2.799270</td>\n",
              "    </tr>\n",
              "    <tr>\n",
              "      <th>4</th>\n",
              "      <td>5.3</td>\n",
              "      <td>2010-03-09 07:51:00</td>\n",
              "      <td>-73.968095</td>\n",
              "      <td>40.768008</td>\n",
              "      <td>-73.956655</td>\n",
              "      <td>40.783762</td>\n",
              "      <td>1.0</td>\n",
              "      <td>2010.0</td>\n",
              "      <td>3.0</td>\n",
              "      <td>9.0</td>\n",
              "      <td>1.0</td>\n",
              "      <td>7.0</td>\n",
              "      <td>51.0</td>\n",
              "      <td>1.999157</td>\n",
              "    </tr>\n",
              "  </tbody>\n",
              "</table>\n",
              "</div>"
            ],
            "text/plain": [
              "   fare_amount     pickup_datetime  pickup_longitude  ...  Hour  Minute  distance\n",
              "0          4.5 2009-06-15 17:26:21        -73.844311  ...  17.0    26.0  1.030764\n",
              "1         16.9 2010-01-05 16:52:16        -74.016048  ...  16.0    52.0  8.450134\n",
              "2          5.7 2011-08-18 00:35:00        -73.982738  ...   0.0    35.0  1.389525\n",
              "3          7.7 2012-04-21 04:30:42        -73.987130  ...   4.0    30.0  2.799270\n",
              "4          5.3 2010-03-09 07:51:00        -73.968095  ...   7.0    51.0  1.999157\n",
              "\n",
              "[5 rows x 14 columns]"
            ]
          },
          "metadata": {},
          "execution_count": 289
        }
      ]
    },
    {
      "cell_type": "code",
      "metadata": {
        "id": "uFjPylS_9bYO"
      },
      "source": [
        "drop = ['pickup_datetime', 'pickup_longitude', 'pickup_latitude','dropoff_longitude', 'dropoff_latitude', 'Minute']\n",
        "train = train.drop(drop, axis = 1)"
      ],
      "execution_count": 290,
      "outputs": []
    },
    {
      "cell_type": "code",
      "metadata": {
        "colab": {
          "base_uri": "https://localhost:8080/",
          "height": 202
        },
        "id": "4GldwG6l9eW3",
        "outputId": "8f032da0-ff71-4f80-863c-63fda6c5eb9f"
      },
      "source": [
        "train.head()"
      ],
      "execution_count": 291,
      "outputs": [
        {
          "output_type": "execute_result",
          "data": {
            "text/html": [
              "<div>\n",
              "<style scoped>\n",
              "    .dataframe tbody tr th:only-of-type {\n",
              "        vertical-align: middle;\n",
              "    }\n",
              "\n",
              "    .dataframe tbody tr th {\n",
              "        vertical-align: top;\n",
              "    }\n",
              "\n",
              "    .dataframe thead th {\n",
              "        text-align: right;\n",
              "    }\n",
              "</style>\n",
              "<table border=\"1\" class=\"dataframe\">\n",
              "  <thead>\n",
              "    <tr style=\"text-align: right;\">\n",
              "      <th></th>\n",
              "      <th>fare_amount</th>\n",
              "      <th>passenger_count</th>\n",
              "      <th>year</th>\n",
              "      <th>Month</th>\n",
              "      <th>Date</th>\n",
              "      <th>Day</th>\n",
              "      <th>Hour</th>\n",
              "      <th>distance</th>\n",
              "    </tr>\n",
              "  </thead>\n",
              "  <tbody>\n",
              "    <tr>\n",
              "      <th>0</th>\n",
              "      <td>4.5</td>\n",
              "      <td>1.0</td>\n",
              "      <td>2009.0</td>\n",
              "      <td>6.0</td>\n",
              "      <td>15.0</td>\n",
              "      <td>0.0</td>\n",
              "      <td>17.0</td>\n",
              "      <td>1.030764</td>\n",
              "    </tr>\n",
              "    <tr>\n",
              "      <th>1</th>\n",
              "      <td>16.9</td>\n",
              "      <td>1.0</td>\n",
              "      <td>2010.0</td>\n",
              "      <td>1.0</td>\n",
              "      <td>5.0</td>\n",
              "      <td>1.0</td>\n",
              "      <td>16.0</td>\n",
              "      <td>8.450134</td>\n",
              "    </tr>\n",
              "    <tr>\n",
              "      <th>2</th>\n",
              "      <td>5.7</td>\n",
              "      <td>2.0</td>\n",
              "      <td>2011.0</td>\n",
              "      <td>8.0</td>\n",
              "      <td>18.0</td>\n",
              "      <td>3.0</td>\n",
              "      <td>0.0</td>\n",
              "      <td>1.389525</td>\n",
              "    </tr>\n",
              "    <tr>\n",
              "      <th>3</th>\n",
              "      <td>7.7</td>\n",
              "      <td>1.0</td>\n",
              "      <td>2012.0</td>\n",
              "      <td>4.0</td>\n",
              "      <td>21.0</td>\n",
              "      <td>5.0</td>\n",
              "      <td>4.0</td>\n",
              "      <td>2.799270</td>\n",
              "    </tr>\n",
              "    <tr>\n",
              "      <th>4</th>\n",
              "      <td>5.3</td>\n",
              "      <td>1.0</td>\n",
              "      <td>2010.0</td>\n",
              "      <td>3.0</td>\n",
              "      <td>9.0</td>\n",
              "      <td>1.0</td>\n",
              "      <td>7.0</td>\n",
              "      <td>1.999157</td>\n",
              "    </tr>\n",
              "  </tbody>\n",
              "</table>\n",
              "</div>"
            ],
            "text/plain": [
              "   fare_amount  passenger_count    year  Month  Date  Day  Hour  distance\n",
              "0          4.5              1.0  2009.0    6.0  15.0  0.0  17.0  1.030764\n",
              "1         16.9              1.0  2010.0    1.0   5.0  1.0  16.0  8.450134\n",
              "2          5.7              2.0  2011.0    8.0  18.0  3.0   0.0  1.389525\n",
              "3          7.7              1.0  2012.0    4.0  21.0  5.0   4.0  2.799270\n",
              "4          5.3              1.0  2010.0    3.0   9.0  1.0   7.0  1.999157"
            ]
          },
          "metadata": {},
          "execution_count": 291
        }
      ]
    },
    {
      "cell_type": "code",
      "metadata": {
        "id": "Jnjv3h079fDb"
      },
      "source": [
        "train['passenger_count'] = train['passenger_count'].astype('int64')\n",
        "train['year'] = train['year'].astype('int64')\n",
        "train['Month'] = train['Month'].astype('int64')\n",
        "train['Date'] = train['Date'].astype('int64')\n",
        "train['Day'] = train['Day'].astype('int64')\n",
        "train['Hour'] = train['Hour'].astype('int64')"
      ],
      "execution_count": 292,
      "outputs": []
    },
    {
      "cell_type": "code",
      "metadata": {
        "colab": {
          "base_uri": "https://localhost:8080/"
        },
        "id": "uWQuMPkA9gxk",
        "outputId": "de90f41a-4695-4efd-f6e1-984837ca9999"
      },
      "source": [
        "train.dtypes"
      ],
      "execution_count": 293,
      "outputs": [
        {
          "output_type": "execute_result",
          "data": {
            "text/plain": [
              "fare_amount        float64\n",
              "passenger_count      int64\n",
              "year                 int64\n",
              "Month                int64\n",
              "Date                 int64\n",
              "Day                  int64\n",
              "Hour                 int64\n",
              "distance           float64\n",
              "dtype: object"
            ]
          },
          "metadata": {},
          "execution_count": 293
        }
      ]
    },
    {
      "cell_type": "code",
      "metadata": {
        "id": "yQdausEA9iZd"
      },
      "source": [
        "\n",
        "drop_test = ['pickup_datetime', 'pickup_longitude', 'pickup_latitude','dropoff_longitude', 'dropoff_latitude', 'Minute']\n",
        "test = test.drop(drop_test, axis = 1)"
      ],
      "execution_count": 294,
      "outputs": []
    },
    {
      "cell_type": "code",
      "metadata": {
        "colab": {
          "base_uri": "https://localhost:8080/",
          "height": 202
        },
        "id": "soXkmvAC9lGh",
        "outputId": "7db9a94c-829d-4f84-9b8f-7fc45479024b"
      },
      "source": [
        "\n",
        "test.head()"
      ],
      "execution_count": 295,
      "outputs": [
        {
          "output_type": "execute_result",
          "data": {
            "text/html": [
              "<div>\n",
              "<style scoped>\n",
              "    .dataframe tbody tr th:only-of-type {\n",
              "        vertical-align: middle;\n",
              "    }\n",
              "\n",
              "    .dataframe tbody tr th {\n",
              "        vertical-align: top;\n",
              "    }\n",
              "\n",
              "    .dataframe thead th {\n",
              "        text-align: right;\n",
              "    }\n",
              "</style>\n",
              "<table border=\"1\" class=\"dataframe\">\n",
              "  <thead>\n",
              "    <tr style=\"text-align: right;\">\n",
              "      <th></th>\n",
              "      <th>Unnamed: 0</th>\n",
              "      <th>passenger_count</th>\n",
              "      <th>year</th>\n",
              "      <th>Month</th>\n",
              "      <th>Date</th>\n",
              "      <th>Day</th>\n",
              "      <th>Hour</th>\n",
              "      <th>distance</th>\n",
              "    </tr>\n",
              "  </thead>\n",
              "  <tbody>\n",
              "    <tr>\n",
              "      <th>0</th>\n",
              "      <td>NaN</td>\n",
              "      <td>1</td>\n",
              "      <td>2015</td>\n",
              "      <td>1</td>\n",
              "      <td>27</td>\n",
              "      <td>1</td>\n",
              "      <td>13</td>\n",
              "      <td>2.323259</td>\n",
              "    </tr>\n",
              "    <tr>\n",
              "      <th>1</th>\n",
              "      <td>NaN</td>\n",
              "      <td>1</td>\n",
              "      <td>2015</td>\n",
              "      <td>1</td>\n",
              "      <td>27</td>\n",
              "      <td>1</td>\n",
              "      <td>13</td>\n",
              "      <td>2.425353</td>\n",
              "    </tr>\n",
              "    <tr>\n",
              "      <th>2</th>\n",
              "      <td>NaN</td>\n",
              "      <td>1</td>\n",
              "      <td>2011</td>\n",
              "      <td>10</td>\n",
              "      <td>8</td>\n",
              "      <td>5</td>\n",
              "      <td>11</td>\n",
              "      <td>0.618628</td>\n",
              "    </tr>\n",
              "    <tr>\n",
              "      <th>3</th>\n",
              "      <td>NaN</td>\n",
              "      <td>1</td>\n",
              "      <td>2012</td>\n",
              "      <td>12</td>\n",
              "      <td>1</td>\n",
              "      <td>5</td>\n",
              "      <td>21</td>\n",
              "      <td>1.961033</td>\n",
              "    </tr>\n",
              "    <tr>\n",
              "      <th>4</th>\n",
              "      <td>NaN</td>\n",
              "      <td>1</td>\n",
              "      <td>2012</td>\n",
              "      <td>12</td>\n",
              "      <td>1</td>\n",
              "      <td>5</td>\n",
              "      <td>21</td>\n",
              "      <td>5.387301</td>\n",
              "    </tr>\n",
              "  </tbody>\n",
              "</table>\n",
              "</div>"
            ],
            "text/plain": [
              "   Unnamed: 0  passenger_count  year  Month  Date  Day  Hour  distance\n",
              "0         NaN                1  2015      1    27    1    13  2.323259\n",
              "1         NaN                1  2015      1    27    1    13  2.425353\n",
              "2         NaN                1  2011     10     8    5    11  0.618628\n",
              "3         NaN                1  2012     12     1    5    21  1.961033\n",
              "4         NaN                1  2012     12     1    5    21  5.387301"
            ]
          },
          "metadata": {},
          "execution_count": 295
        }
      ]
    },
    {
      "cell_type": "code",
      "metadata": {
        "colab": {
          "base_uri": "https://localhost:8080/"
        },
        "id": "jOyZQE2h9nJK",
        "outputId": "d32917ae-3de4-45c9-bbff-2c2b192ef05a"
      },
      "source": [
        "test.dtypes\n"
      ],
      "execution_count": 296,
      "outputs": [
        {
          "output_type": "execute_result",
          "data": {
            "text/plain": [
              "Unnamed: 0         float64\n",
              "passenger_count      int64\n",
              "year                 int64\n",
              "Month                int64\n",
              "Date                 int64\n",
              "Day                  int64\n",
              "Hour                 int64\n",
              "distance           float64\n",
              "dtype: object"
            ]
          },
          "metadata": {},
          "execution_count": 296
        }
      ]
    },
    {
      "cell_type": "markdown",
      "metadata": {
        "id": "_SFx8e4s9rMT"
      },
      "source": [
        "Data Visualization"
      ]
    },
    {
      "cell_type": "code",
      "metadata": {
        "colab": {
          "base_uri": "https://localhost:8080/",
          "height": 461
        },
        "id": "9YbzaVqN9psr",
        "outputId": "e5c14261-9c79-4562-ad09-6cc5981d31d0"
      },
      "source": [
        "# Count plot on passenger count\n",
        "plt.figure(figsize=(15,7))\n",
        "sns.countplot(x=\"passenger_count\", data=train)"
      ],
      "execution_count": 297,
      "outputs": [
        {
          "output_type": "execute_result",
          "data": {
            "text/plain": [
              "<matplotlib.axes._subplots.AxesSubplot at 0x7fc8c53e2dd0>"
            ]
          },
          "metadata": {},
          "execution_count": 297
        },
        {
          "output_type": "display_data",
          "data": {
            "image/png": "[encoded data removed]",
            "text/plain": [
              "<Figure size 1080x504 with 1 Axes>"
            ]
          },
          "metadata": {
            "needs_background": "light"
          }
        }
      ]
    },
    {
      "cell_type": "code",
      "metadata": {
        "colab": {
          "base_uri": "https://localhost:8080/",
          "height": 442
        },
        "id": "_7wH-NTK9pjV",
        "outputId": "b0bcb859-c8f4-4d8b-85a9-fcddc35ee3cc"
      },
      "source": [
        "#Relationship beetween number of passengers and Fare\n",
        "\n",
        "plt.figure(figsize=(15,7))\n",
        "plt.scatter(x=train['passenger_count'], y=train['fare_amount'], s=10)\n",
        "plt.xlabel('No. of Passengers')\n",
        "plt.ylabel('Fare')\n",
        "plt.show()"
      ],
      "execution_count": 298,
      "outputs": [
        {
          "output_type": "display_data",
          "data": {
            "image/png": "[encoded data removed]",
            "text/plain": [
              "<Figure size 1080x504 with 1 Axes>"
            ]
          },
          "metadata": {
            "needs_background": "light"
          }
        }
      ]
    },
    {
      "cell_type": "code",
      "metadata": {
        "colab": {
          "base_uri": "https://localhost:8080/",
          "height": 442
        },
        "id": "7XD3wyQI9pbG",
        "outputId": "8aa779e1-4cef-4fcd-bb72-d85820f282dd"
      },
      "source": [
        "#Relationship between date and Fare\n",
        "plt.figure(figsize=(15,7))\n",
        "plt.scatter(x=train['Date'], y=train['fare_amount'], s=10)\n",
        "plt.xlabel('Date')\n",
        "plt.ylabel('Fare')\n",
        "plt.show()"
      ],
      "execution_count": 299,
      "outputs": [
        {
          "output_type": "display_data",
          "data": {
            "image/png": "[encoded data removed]",
            "text/plain": [
              "<Figure size 1080x504 with 1 Axes>"
            ]
          },
          "metadata": {
            "needs_background": "light"
          }
        }
      ]
    },
    {
      "cell_type": "code",
      "metadata": {
        "colab": {
          "base_uri": "https://localhost:8080/",
          "height": 445
        },
        "id": "gDt6UDMG92wY",
        "outputId": "174bb0d6-3043-43fd-e8fe-dc0748f2f210"
      },
      "source": [
        "\n",
        "plt.figure(figsize=(15,7))\n",
        "train.groupby(train[\"Hour\"])['Hour'].count().plot(kind=\"bar\")\n",
        "plt.show()"
      ],
      "execution_count": 300,
      "outputs": [
        {
          "output_type": "display_data",
          "data": {
            "image/png": "[encoded data removed]",
            "text/plain": [
              "<Figure size 1080x504 with 1 Axes>"
            ]
          },
          "metadata": {
            "needs_background": "light"
          }
        }
      ]
    },
    {
      "cell_type": "code",
      "metadata": {
        "colab": {
          "base_uri": "https://localhost:8080/",
          "height": 442
        },
        "id": "XQphgU2B94DL",
        "outputId": "82d90c51-cdc7-4065-a530-9af5d5534107"
      },
      "source": [
        "\n",
        "#Relationship between Time and Fare\n",
        "plt.figure(figsize=(15,7))\n",
        "plt.scatter(x=train['Hour'], y=train['fare_amount'], s=10)\n",
        "plt.xlabel('Hour')\n",
        "plt.ylabel('Fare')\n",
        "plt.show()"
      ],
      "execution_count": 301,
      "outputs": [
        {
          "output_type": "display_data",
          "data": {
            "image/png": "[encoded data removed]",
            "text/plain": [
              "<Figure size 1080x504 with 1 Axes>"
            ]
          },
          "metadata": {
            "needs_background": "light"
          }
        }
      ]
    },
    {
      "cell_type": "code",
      "metadata": {
        "colab": {
          "base_uri": "https://localhost:8080/",
          "height": 458
        },
        "id": "p2t_CE1C943_",
        "outputId": "6c21e14e-6f28-49ca-a6a0-445717cd9809"
      },
      "source": [
        "#impact of Day on the number of cab rides\n",
        "plt.figure(figsize=(15,7))\n",
        "sns.countplot(x=\"Day\", data=train)"
      ],
      "execution_count": 302,
      "outputs": [
        {
          "output_type": "execute_result",
          "data": {
            "text/plain": [
              "<matplotlib.axes._subplots.AxesSubplot at 0x7fc8a5df9a10>"
            ]
          },
          "metadata": {},
          "execution_count": 302
        },
        {
          "output_type": "display_data",
          "data": {
            "image/png": "[encoded data removed]",
            "text/plain": [
              "<Figure size 1080x504 with 1 Axes>"
            ]
          },
          "metadata": {
            "needs_background": "light"
          }
        }
      ]
    },
    {
      "cell_type": "code",
      "metadata": {
        "colab": {
          "base_uri": "https://localhost:8080/",
          "height": 442
        },
        "id": "qECjLuye98UZ",
        "outputId": "f186204d-3f56-41fa-e456-6a2a6889d465"
      },
      "source": [
        "#Relationships between day and Fare\n",
        "plt.figure(figsize=(15,7))\n",
        "plt.scatter(x=train['Day'], y=train['fare_amount'], s=10)\n",
        "plt.xlabel('Day')\n",
        "plt.ylabel('Fare')\n",
        "plt.show()"
      ],
      "execution_count": 303,
      "outputs": [
        {
          "output_type": "display_data",
          "data": {
            "image/png": "[encoded data removed]",
            "text/plain": [
              "<Figure size 1080x504 with 1 Axes>"
            ]
          },
          "metadata": {
            "needs_background": "light"
          }
        }
      ]
    },
    {
      "cell_type": "code",
      "metadata": {
        "colab": {
          "base_uri": "https://localhost:8080/",
          "height": 442
        },
        "id": "IBfu4J_N995u",
        "outputId": "a7239c63-b52e-43ee-d382-266e8060a2b1"
      },
      "source": [
        "\n",
        "#Relationship between distance and fare \n",
        "plt.figure(figsize=(15,7))\n",
        "plt.scatter(x = train['distance'],y = train['fare_amount'],c = \"g\")\n",
        "plt.xlabel('Distance')\n",
        "plt.ylabel('Fare')\n",
        "plt.show()"
      ],
      "execution_count": 304,
      "outputs": [
        {
          "output_type": "display_data",
          "data": {
            "image/png": "[encoded data removed]",
            "text/plain": [
              "<Figure size 1080x504 with 1 Axes>"
            ]
          },
          "metadata": {
            "needs_background": "light"
          }
        }
      ]
    },
    {
      "cell_type": "markdown",
      "metadata": {
        "id": "SjVZxJmr-BGb"
      },
      "source": [
        "Feature Scaling"
      ]
    },
    {
      "cell_type": "code",
      "metadata": {
        "colab": {
          "base_uri": "https://localhost:8080/",
          "height": 694
        },
        "id": "yYi1h271-Bsz",
        "outputId": "de9c640b-0869-4d85-d828-039e077a0a32"
      },
      "source": [
        "#Normality check of training data is uniformly distributed or not-\n",
        "\n",
        "for i in ['fare_amount', 'distance']:\n",
        "    print(i)\n",
        "    sns.distplot(train[i],bins='auto',color='green')\n",
        "    plt.title(\"Distribution for Variable \"+i)\n",
        "    plt.ylabel(\"Density\")\n",
        "    plt.show()"
      ],
      "execution_count": 305,
      "outputs": [
        {
          "output_type": "stream",
          "text": [
            "fare_amount\n"
          ],
          "name": "stdout"
        },
        {
          "output_type": "stream",
          "text": [
            "/usr/local/lib/python3.7/dist-packages/seaborn/distributions.py:2557: FutureWarning: `distplot` is a deprecated function and will be removed in a future version. Please adapt your code to use either `displot` (a figure-level function with similar flexibility) or `histplot` (an axes-level function for histograms).\n",
            "  warnings.warn(msg, FutureWarning)\n"
          ],
          "name": "stderr"
        },
        {
          "output_type": "display_data",
          "data": {
            "image/png": "[encoded data removed]",
            "text/plain": [
              "<Figure size 432x288 with 1 Axes>"
            ]
          },
          "metadata": {
            "needs_background": "light"
          }
        },
        {
          "output_type": "stream",
          "text": [
            "distance\n"
          ],
          "name": "stdout"
        },
        {
          "output_type": "stream",
          "text": [
            "/usr/local/lib/python3.7/dist-packages/seaborn/distributions.py:2557: FutureWarning: `distplot` is a deprecated function and will be removed in a future version. Please adapt your code to use either `displot` (a figure-level function with similar flexibility) or `histplot` (an axes-level function for histograms).\n",
            "  warnings.warn(msg, FutureWarning)\n"
          ],
          "name": "stderr"
        },
        {
          "output_type": "display_data",
          "data": {
            "image/png": "[encoded data removed]",
            "text/plain": [
              "<Figure size 432x288 with 1 Axes>"
            ]
          },
          "metadata": {
            "needs_background": "light"
          }
        }
      ]
    },
    {
      "cell_type": "code",
      "metadata": {
        "id": "4E0LgtqS-FxL"
      },
      "source": [
        "\n",
        "#since skewness of target variable is high, apply log transform to reduce the skewness-\n",
        "train['fare_amount'] = np.log1p(train['fare_amount'])\n",
        "\n",
        "#since skewness of distance variable is high, apply log transform to reduce the skewness-\n",
        "train['distance'] = np.log1p(train['distance'])"
      ],
      "execution_count": 306,
      "outputs": []
    },
    {
      "cell_type": "code",
      "metadata": {
        "colab": {
          "base_uri": "https://localhost:8080/",
          "height": 694
        },
        "id": "8jRLRGdE-Gf-",
        "outputId": "5fe55329-b681-4f57-bda4-8cb8f923252f"
      },
      "source": [
        "#Normality Re-check to check data is uniformly distributed or not after log transformartion\n",
        "\n",
        "for i in ['fare_amount', 'distance']:\n",
        "    print(i)\n",
        "    sns.distplot(train[i],bins='auto',color='green')\n",
        "    plt.title(\"Distribution for Variable \"+i)\n",
        "    plt.ylabel(\"Density\")\n",
        "    plt.show()"
      ],
      "execution_count": 307,
      "outputs": [
        {
          "output_type": "stream",
          "text": [
            "fare_amount\n"
          ],
          "name": "stdout"
        },
        {
          "output_type": "stream",
          "text": [
            "/usr/local/lib/python3.7/dist-packages/seaborn/distributions.py:2557: FutureWarning: `distplot` is a deprecated function and will be removed in a future version. Please adapt your code to use either `displot` (a figure-level function with similar flexibility) or `histplot` (an axes-level function for histograms).\n",
            "  warnings.warn(msg, FutureWarning)\n"
          ],
          "name": "stderr"
        },
        {
          "output_type": "display_data",
          "data": {
            "image/png": "[encoded data removed]",
            "text/plain": [
              "<Figure size 432x288 with 1 Axes>"
            ]
          },
          "metadata": {
            "needs_background": "light"
          }
        },
        {
          "output_type": "stream",
          "text": [
            "distance\n"
          ],
          "name": "stdout"
        },
        {
          "output_type": "stream",
          "text": [
            "/usr/local/lib/python3.7/dist-packages/seaborn/distributions.py:2557: FutureWarning: `distplot` is a deprecated function and will be removed in a future version. Please adapt your code to use either `displot` (a figure-level function with similar flexibility) or `histplot` (an axes-level function for histograms).\n",
            "  warnings.warn(msg, FutureWarning)\n"
          ],
          "name": "stderr"
        },
        {
          "output_type": "display_data",
          "data": {
            "image/png": "[encoded data removed]",
            "text/plain": [
              "<Figure size 432x288 with 1 Axes>"
            ]
          },
          "metadata": {
            "needs_background": "light"
          }
        }
      ]
    },
    {
      "cell_type": "code",
      "metadata": {
        "colab": {
          "base_uri": "https://localhost:8080/",
          "height": 348
        },
        "id": "MEn0tsme-IJK",
        "outputId": "ec70b77d-5f37-4292-c496-34ea54f584d9"
      },
      "source": [
        "#Normality check for test data is uniformly distributed or not-\n",
        "\n",
        "sns.distplot(test['distance'],bins='auto',color='green')\n",
        "plt.title(\"Distribution for Variable \"+i)\n",
        "plt.ylabel(\"Density\")\n",
        "plt.show()"
      ],
      "execution_count": 308,
      "outputs": [
        {
          "output_type": "stream",
          "text": [
            "/usr/local/lib/python3.7/dist-packages/seaborn/distributions.py:2557: FutureWarning: `distplot` is a deprecated function and will be removed in a future version. Please adapt your code to use either `displot` (a figure-level function with similar flexibility) or `histplot` (an axes-level function for histograms).\n",
            "  warnings.warn(msg, FutureWarning)\n"
          ],
          "name": "stderr"
        },
        {
          "output_type": "display_data",
          "data": {
            "image/png": "[encoded data removed]",
            "text/plain": [
              "<Figure size 432x288 with 1 Axes>"
            ]
          },
          "metadata": {
            "needs_background": "light"
          }
        }
      ]
    },
    {
      "cell_type": "code",
      "metadata": {
        "id": "uZaiMDzc-KF7"
      },
      "source": [
        "\n",
        "#since skewness of distance variable is high, apply log transform to reduce the skewness-\n",
        "test['distance'] = np.log1p(test['distance'])"
      ],
      "execution_count": 309,
      "outputs": []
    },
    {
      "cell_type": "code",
      "metadata": {
        "colab": {
          "base_uri": "https://localhost:8080/",
          "height": 348
        },
        "id": "Y1xjs4Xu-MN5",
        "outputId": "307818f7-9a19-430b-822c-e9f9f474e55d"
      },
      "source": [
        "\n",
        "#rechecking the distribution for distance\n",
        "sns.distplot(test['distance'],bins='auto',color='green')\n",
        "plt.title(\"Distribution for Variable \"+i)\n",
        "plt.ylabel(\"Density\")\n",
        "plt.show()"
      ],
      "execution_count": 310,
      "outputs": [
        {
          "output_type": "stream",
          "text": [
            "/usr/local/lib/python3.7/dist-packages/seaborn/distributions.py:2557: FutureWarning: `distplot` is a deprecated function and will be removed in a future version. Please adapt your code to use either `displot` (a figure-level function with similar flexibility) or `histplot` (an axes-level function for histograms).\n",
            "  warnings.warn(msg, FutureWarning)\n"
          ],
          "name": "stderr"
        },
        {
          "output_type": "display_data",
          "data": {
            "image/png": "[encoded data removed]",
            "text/plain": [
              "<Figure size 432x288 with 1 Axes>"
            ]
          },
          "metadata": {
            "needs_background": "light"
          }
        }
      ]
    },
    {
      "cell_type": "markdown",
      "metadata": {
        "id": "eFNVrAh1-_RF"
      },
      "source": [
        "ML algorithms"
      ]
    },
    {
      "cell_type": "code",
      "metadata": {
        "id": "s1Ez4GQy-6j4"
      },
      "source": [
        "\n",
        "##train test split for further modelling\n",
        "X_train, X_test, y_train, y_test = train_test_split( train.iloc[:, train.columns != 'fare_amount'], \n",
        "                         train.iloc[:, 0], test_size = 0.20, random_state = 1)"
      ],
      "execution_count": 311,
      "outputs": []
    },
    {
      "cell_type": "code",
      "metadata": {
        "colab": {
          "base_uri": "https://localhost:8080/"
        },
        "id": "7iD2d8N-_DVY",
        "outputId": "037a278a-3ae4-4ae4-dd0f-86b8d504791d"
      },
      "source": [
        "\n",
        "print(X_train.shape)\n",
        "print(X_test.shape)"
      ],
      "execution_count": 312,
      "outputs": [
        {
          "output_type": "stream",
          "text": [
            "(10856, 7)\n",
            "(2715, 7)\n"
          ],
          "name": "stdout"
        }
      ]
    },
    {
      "cell_type": "markdown",
      "metadata": {
        "id": "zn6FR2Un_Euq"
      },
      "source": [
        "linear regression"
      ]
    },
    {
      "cell_type": "code",
      "metadata": {
        "id": "w-EKJq-7_Grl"
      },
      "source": [
        "# Building model on top of training dataset\n",
        "fit_LR = LinearRegression().fit(X_train , y_train)"
      ],
      "execution_count": 313,
      "outputs": []
    },
    {
      "cell_type": "code",
      "metadata": {
        "id": "ad35eyUY_KP2"
      },
      "source": [
        "\n",
        "#prediction on train data\n",
        "pred_train_LR = fit_LR.predict(X_train)"
      ],
      "execution_count": 314,
      "outputs": []
    },
    {
      "cell_type": "code",
      "metadata": {
        "id": "d3lZepo4_K-z"
      },
      "source": [
        "\n",
        "#prediction on test data\n",
        "pred_test_LR = fit_LR.predict(X_test)"
      ],
      "execution_count": 315,
      "outputs": []
    },
    {
      "cell_type": "code",
      "metadata": {
        "id": "3c-PPFpw_M3n"
      },
      "source": [
        "##calculating RMSE for test data\n",
        "RMSE_test_LR = np.sqrt(mean_squared_error(y_test, pred_test_LR))\n",
        "\n",
        "##calculating RMSE for train data\n",
        "RMSE_train_LR= np.sqrt(mean_squared_error(y_train, pred_train_LR))"
      ],
      "execution_count": 316,
      "outputs": []
    },
    {
      "cell_type": "code",
      "metadata": {
        "colab": {
          "base_uri": "https://localhost:8080/"
        },
        "id": "GCSwFgog_Obl",
        "outputId": "16745b89-cfcc-40b7-fccd-1659b3423d66"
      },
      "source": [
        "print(\"Root Mean Squared Error For Training data = \"+str(RMSE_train_LR))\n",
        "print(\"Root Mean Squared Error For Test data = \"+str(RMSE_test_LR))"
      ],
      "execution_count": 317,
      "outputs": [
        {
          "output_type": "stream",
          "text": [
            "Root Mean Squared Error For Training data = 0.2765515432299964\n",
            "Root Mean Squared Error For Test data = 0.2423220401313006\n"
          ],
          "name": "stdout"
        }
      ]
    },
    {
      "cell_type": "code",
      "metadata": {
        "colab": {
          "base_uri": "https://localhost:8080/"
        },
        "id": "4Od9PsrY_P2H",
        "outputId": "173095f7-10d6-4062-be62-96aa3c6a3f37"
      },
      "source": [
        "#calculate R^2 for train data\n",
        "from sklearn.metrics import r2_score\n",
        "r2_score(y_train, pred_train_LR)"
      ],
      "execution_count": 318,
      "outputs": [
        {
          "output_type": "execute_result",
          "data": {
            "text/plain": [
              "0.7469021725217135"
            ]
          },
          "metadata": {},
          "execution_count": 318
        }
      ]
    },
    {
      "cell_type": "code",
      "metadata": {
        "colab": {
          "base_uri": "https://localhost:8080/"
        },
        "id": "_FVQRG3ueg-f",
        "outputId": "ee8d6ae7-1439-4c72-cd35-0d77f8c366d9"
      },
      "source": [
        "print(y_train,pred_train_LR.reshape(-1,1))"
      ],
      "execution_count": 380,
      "outputs": [
        {
          "output_type": "stream",
          "text": [
            "1847     3.122365\n",
            "12892    2.803360\n",
            "8531     1.547563\n",
            "8277     1.945910\n",
            "612      2.066863\n",
            "           ...   \n",
            "994      2.687847\n",
            "5454     1.704748\n",
            "12682    2.917771\n",
            "259      1.945910\n",
            "13919    3.462606\n",
            "Name: fare_amount, Length: 10856, dtype: float64 [[3.33051921]\n",
            " [2.83033703]\n",
            " [1.81350394]\n",
            " ...\n",
            " [2.54407982]\n",
            " [2.01358438]\n",
            " [3.17065656]]\n"
          ],
          "name": "stdout"
        }
      ]
    },
    {
      "cell_type": "code",
      "metadata": {
        "id": "YfHNPCwHgyES"
      },
      "source": [
        "X_train['pred_train_LR'] = pred_train_LR.reshape(-1,1)\n"
      ],
      "execution_count": 384,
      "outputs": []
    },
    {
      "cell_type": "code",
      "metadata": {
        "colab": {
          "base_uri": "https://localhost:8080/",
          "height": 202
        },
        "id": "VdiK-moDfkK-",
        "outputId": "7fee2d80-70b8-4170-d14d-d30a0d93bfb6"
      },
      "source": [
        "X_train.head(5)"
      ],
      "execution_count": 392,
      "outputs": [
        {
          "output_type": "execute_result",
          "data": {
            "text/html": [
              "<div>\n",
              "<style scoped>\n",
              "    .dataframe tbody tr th:only-of-type {\n",
              "        vertical-align: middle;\n",
              "    }\n",
              "\n",
              "    .dataframe tbody tr th {\n",
              "        vertical-align: top;\n",
              "    }\n",
              "\n",
              "    .dataframe thead th {\n",
              "        text-align: right;\n",
              "    }\n",
              "</style>\n",
              "<table border=\"1\" class=\"dataframe\">\n",
              "  <thead>\n",
              "    <tr style=\"text-align: right;\">\n",
              "      <th></th>\n",
              "      <th>passenger_count</th>\n",
              "      <th>year</th>\n",
              "      <th>Month</th>\n",
              "      <th>Date</th>\n",
              "      <th>Day</th>\n",
              "      <th>Hour</th>\n",
              "      <th>distance</th>\n",
              "      <th>pred_train_LR</th>\n",
              "    </tr>\n",
              "  </thead>\n",
              "  <tbody>\n",
              "    <tr>\n",
              "      <th>1847</th>\n",
              "      <td>4</td>\n",
              "      <td>2010</td>\n",
              "      <td>5</td>\n",
              "      <td>9</td>\n",
              "      <td>6</td>\n",
              "      <td>1</td>\n",
              "      <td>2.675738</td>\n",
              "      <td>3.330519</td>\n",
              "    </tr>\n",
              "    <tr>\n",
              "      <th>12892</th>\n",
              "      <td>1</td>\n",
              "      <td>2014</td>\n",
              "      <td>8</td>\n",
              "      <td>23</td>\n",
              "      <td>5</td>\n",
              "      <td>7</td>\n",
              "      <td>1.798315</td>\n",
              "      <td>2.830337</td>\n",
              "    </tr>\n",
              "    <tr>\n",
              "      <th>8531</th>\n",
              "      <td>1</td>\n",
              "      <td>2010</td>\n",
              "      <td>5</td>\n",
              "      <td>6</td>\n",
              "      <td>3</td>\n",
              "      <td>20</td>\n",
              "      <td>0.680281</td>\n",
              "      <td>1.813504</td>\n",
              "    </tr>\n",
              "    <tr>\n",
              "      <th>8277</th>\n",
              "      <td>1</td>\n",
              "      <td>2013</td>\n",
              "      <td>11</td>\n",
              "      <td>1</td>\n",
              "      <td>4</td>\n",
              "      <td>10</td>\n",
              "      <td>0.627785</td>\n",
              "      <td>1.921960</td>\n",
              "    </tr>\n",
              "    <tr>\n",
              "      <th>612</th>\n",
              "      <td>2</td>\n",
              "      <td>2012</td>\n",
              "      <td>1</td>\n",
              "      <td>30</td>\n",
              "      <td>0</td>\n",
              "      <td>13</td>\n",
              "      <td>0.863027</td>\n",
              "      <td>2.012711</td>\n",
              "    </tr>\n",
              "  </tbody>\n",
              "</table>\n",
              "</div>"
            ],
            "text/plain": [
              "       passenger_count  year  Month  Date  Day  Hour  distance  pred_train_LR\n",
              "1847                 4  2010      5     9    6     1  2.675738       3.330519\n",
              "12892                1  2014      8    23    5     7  1.798315       2.830337\n",
              "8531                 1  2010      5     6    3    20  0.680281       1.813504\n",
              "8277                 1  2013     11     1    4    10  0.627785       1.921960\n",
              "612                  2  2012      1    30    0    13  0.863027       2.012711"
            ]
          },
          "metadata": {},
          "execution_count": 392
        }
      ]
    },
    {
      "cell_type": "code",
      "metadata": {
        "id": "fV7xmhFvhN63"
      },
      "source": [
        "X_test['pred_train_LR'] = pred_test_LR.reshape(-1,1)"
      ],
      "execution_count": 387,
      "outputs": []
    },
    {
      "cell_type": "code",
      "metadata": {
        "colab": {
          "base_uri": "https://localhost:8080/",
          "height": 202
        },
        "id": "5EWXCjeBhUCr",
        "outputId": "09a88e16-98f9-40aa-c7e5-4c51b59b1381"
      },
      "source": [
        "X_test.head(5)"
      ],
      "execution_count": 391,
      "outputs": [
        {
          "output_type": "execute_result",
          "data": {
            "text/html": [
              "<div>\n",
              "<style scoped>\n",
              "    .dataframe tbody tr th:only-of-type {\n",
              "        vertical-align: middle;\n",
              "    }\n",
              "\n",
              "    .dataframe tbody tr th {\n",
              "        vertical-align: top;\n",
              "    }\n",
              "\n",
              "    .dataframe thead th {\n",
              "        text-align: right;\n",
              "    }\n",
              "</style>\n",
              "<table border=\"1\" class=\"dataframe\">\n",
              "  <thead>\n",
              "    <tr style=\"text-align: right;\">\n",
              "      <th></th>\n",
              "      <th>passenger_count</th>\n",
              "      <th>year</th>\n",
              "      <th>Month</th>\n",
              "      <th>Date</th>\n",
              "      <th>Day</th>\n",
              "      <th>Hour</th>\n",
              "      <th>distance</th>\n",
              "      <th>pred_train_LR</th>\n",
              "    </tr>\n",
              "  </thead>\n",
              "  <tbody>\n",
              "    <tr>\n",
              "      <th>2615</th>\n",
              "      <td>1</td>\n",
              "      <td>2009</td>\n",
              "      <td>2</td>\n",
              "      <td>22</td>\n",
              "      <td>6</td>\n",
              "      <td>21</td>\n",
              "      <td>0.765051</td>\n",
              "      <td>1.809235</td>\n",
              "    </tr>\n",
              "    <tr>\n",
              "      <th>2916</th>\n",
              "      <td>1</td>\n",
              "      <td>2010</td>\n",
              "      <td>4</td>\n",
              "      <td>23</td>\n",
              "      <td>4</td>\n",
              "      <td>16</td>\n",
              "      <td>1.384689</td>\n",
              "      <td>2.338902</td>\n",
              "    </tr>\n",
              "    <tr>\n",
              "      <th>13820</th>\n",
              "      <td>5</td>\n",
              "      <td>2010</td>\n",
              "      <td>6</td>\n",
              "      <td>16</td>\n",
              "      <td>2</td>\n",
              "      <td>18</td>\n",
              "      <td>2.588249</td>\n",
              "      <td>3.300228</td>\n",
              "    </tr>\n",
              "    <tr>\n",
              "      <th>4140</th>\n",
              "      <td>1</td>\n",
              "      <td>2011</td>\n",
              "      <td>4</td>\n",
              "      <td>3</td>\n",
              "      <td>6</td>\n",
              "      <td>0</td>\n",
              "      <td>1.495795</td>\n",
              "      <td>2.445660</td>\n",
              "    </tr>\n",
              "    <tr>\n",
              "      <th>1087</th>\n",
              "      <td>1</td>\n",
              "      <td>2013</td>\n",
              "      <td>3</td>\n",
              "      <td>6</td>\n",
              "      <td>2</td>\n",
              "      <td>10</td>\n",
              "      <td>1.449162</td>\n",
              "      <td>2.501941</td>\n",
              "    </tr>\n",
              "  </tbody>\n",
              "</table>\n",
              "</div>"
            ],
            "text/plain": [
              "       passenger_count  year  Month  Date  Day  Hour  distance  pred_train_LR\n",
              "2615                 1  2009      2    22    6    21  0.765051       1.809235\n",
              "2916                 1  2010      4    23    4    16  1.384689       2.338902\n",
              "13820                5  2010      6    16    2    18  2.588249       3.300228\n",
              "4140                 1  2011      4     3    6     0  1.495795       2.445660\n",
              "1087                 1  2013      3     6    2    10  1.449162       2.501941"
            ]
          },
          "metadata": {},
          "execution_count": 391
        }
      ]
    },
    {
      "cell_type": "code",
      "metadata": {
        "colab": {
          "base_uri": "https://localhost:8080/",
          "height": 202
        },
        "id": "Kgm0kg8uiBsb",
        "outputId": "bef9a526-ef43-4856-8195-35a0f83357c1"
      },
      "source": [
        "train.head()"
      ],
      "execution_count": 389,
      "outputs": [
        {
          "output_type": "execute_result",
          "data": {
            "text/html": [
              "<div>\n",
              "<style scoped>\n",
              "    .dataframe tbody tr th:only-of-type {\n",
              "        vertical-align: middle;\n",
              "    }\n",
              "\n",
              "    .dataframe tbody tr th {\n",
              "        vertical-align: top;\n",
              "    }\n",
              "\n",
              "    .dataframe thead th {\n",
              "        text-align: right;\n",
              "    }\n",
              "</style>\n",
              "<table border=\"1\" class=\"dataframe\">\n",
              "  <thead>\n",
              "    <tr style=\"text-align: right;\">\n",
              "      <th></th>\n",
              "      <th>fare_amount</th>\n",
              "      <th>passenger_count</th>\n",
              "      <th>year</th>\n",
              "      <th>Month</th>\n",
              "      <th>Date</th>\n",
              "      <th>Day</th>\n",
              "      <th>Hour</th>\n",
              "      <th>distance</th>\n",
              "    </tr>\n",
              "  </thead>\n",
              "  <tbody>\n",
              "    <tr>\n",
              "      <th>0</th>\n",
              "      <td>1.704748</td>\n",
              "      <td>1</td>\n",
              "      <td>2009</td>\n",
              "      <td>6</td>\n",
              "      <td>15</td>\n",
              "      <td>0</td>\n",
              "      <td>17</td>\n",
              "      <td>0.708412</td>\n",
              "    </tr>\n",
              "    <tr>\n",
              "      <th>1</th>\n",
              "      <td>2.884801</td>\n",
              "      <td>1</td>\n",
              "      <td>2010</td>\n",
              "      <td>1</td>\n",
              "      <td>5</td>\n",
              "      <td>1</td>\n",
              "      <td>16</td>\n",
              "      <td>2.246029</td>\n",
              "    </tr>\n",
              "    <tr>\n",
              "      <th>2</th>\n",
              "      <td>1.902108</td>\n",
              "      <td>2</td>\n",
              "      <td>2011</td>\n",
              "      <td>8</td>\n",
              "      <td>18</td>\n",
              "      <td>3</td>\n",
              "      <td>0</td>\n",
              "      <td>0.871095</td>\n",
              "    </tr>\n",
              "    <tr>\n",
              "      <th>3</th>\n",
              "      <td>2.163323</td>\n",
              "      <td>1</td>\n",
              "      <td>2012</td>\n",
              "      <td>4</td>\n",
              "      <td>21</td>\n",
              "      <td>5</td>\n",
              "      <td>4</td>\n",
              "      <td>1.334809</td>\n",
              "    </tr>\n",
              "    <tr>\n",
              "      <th>4</th>\n",
              "      <td>1.840550</td>\n",
              "      <td>1</td>\n",
              "      <td>2010</td>\n",
              "      <td>3</td>\n",
              "      <td>9</td>\n",
              "      <td>1</td>\n",
              "      <td>7</td>\n",
              "      <td>1.098331</td>\n",
              "    </tr>\n",
              "  </tbody>\n",
              "</table>\n",
              "</div>"
            ],
            "text/plain": [
              "   fare_amount  passenger_count  year  Month  Date  Day  Hour  distance\n",
              "0     1.704748                1  2009      6    15    0    17  0.708412\n",
              "1     2.884801                1  2010      1     5    1    16  2.246029\n",
              "2     1.902108                2  2011      8    18    3     0  0.871095\n",
              "3     2.163323                1  2012      4    21    5     4  1.334809\n",
              "4     1.840550                1  2010      3     9    1     7  1.098331"
            ]
          },
          "metadata": {},
          "execution_count": 389
        }
      ]
    },
    {
      "cell_type": "code",
      "metadata": {
        "colab": {
          "base_uri": "https://localhost:8080/"
        },
        "id": "jXSG9SjL_SDr",
        "outputId": "a7d4b4f8-1bff-4d97-bad0-3e596a6974af"
      },
      "source": [
        "r2_score(y_test, pred_test_LR)\n"
      ],
      "execution_count": 319,
      "outputs": [
        {
          "output_type": "execute_result",
          "data": {
            "text/plain": [
              "0.7952478841617927"
            ]
          },
          "metadata": {},
          "execution_count": 319
        }
      ]
    },
    {
      "cell_type": "markdown",
      "metadata": {
        "id": "ZvFH0rHJ_VFU"
      },
      "source": [
        "Decision tree"
      ]
    },
    {
      "cell_type": "code",
      "metadata": {
        "id": "cxREcUfm_ZyF"
      },
      "source": [
        "fit_DT = DecisionTreeRegressor(max_depth = 2).fit(X_train,y_train)"
      ],
      "execution_count": 320,
      "outputs": []
    },
    {
      "cell_type": "code",
      "metadata": {
        "id": "UpkvS-oo_bSw"
      },
      "source": [
        "#prediction on train data\n",
        "pred_train_DT = fit_DT.predict(X_train)\n",
        "\n",
        "#prediction on test data\n",
        "pred_test_DT = fit_DT.predict(X_test)"
      ],
      "execution_count": 321,
      "outputs": []
    },
    {
      "cell_type": "code",
      "metadata": {
        "id": "SsCuLJl7_cyn"
      },
      "source": [
        "##calculating RMSE for train data\n",
        "RMSE_train_DT = np.sqrt(mean_squared_error(y_train, pred_train_DT))\n",
        "\n",
        "##calculating RMSE for test data\n",
        "RMSE_test_DT = np.sqrt(mean_squared_error(y_test, pred_test_DT))"
      ],
      "execution_count": 322,
      "outputs": []
    },
    {
      "cell_type": "code",
      "metadata": {
        "colab": {
          "base_uri": "https://localhost:8080/"
        },
        "id": "SUpheFkx_eHE",
        "outputId": "061eafab-b82d-44e5-aa33-f7432a629a3a"
      },
      "source": [
        "print(\"Root Mean Squared Error For Training data = \"+str(RMSE_train_DT))\n",
        "print(\"Root Mean Squared Error For Test data = \"+str(RMSE_test_DT))"
      ],
      "execution_count": 323,
      "outputs": [
        {
          "output_type": "stream",
          "text": [
            "Root Mean Squared Error For Training data = 0.3017061297693284\n",
            "Root Mean Squared Error For Test data = 0.28079117408181997\n"
          ],
          "name": "stdout"
        }
      ]
    },
    {
      "cell_type": "code",
      "metadata": {
        "colab": {
          "base_uri": "https://localhost:8080/"
        },
        "id": "WZyHFVn3_fza",
        "outputId": "a9121361-c0df-4795-81b5-b532a662c251"
      },
      "source": [
        "## R^2 calculation for train data\n",
        "r2_score(y_train, pred_train_DT)"
      ],
      "execution_count": 324,
      "outputs": [
        {
          "output_type": "execute_result",
          "data": {
            "text/plain": [
              "0.6987656367569646"
            ]
          },
          "metadata": {},
          "execution_count": 324
        }
      ]
    },
    {
      "cell_type": "code",
      "metadata": {
        "colab": {
          "base_uri": "https://localhost:8080/"
        },
        "id": "rM4c2Ivx_gSi",
        "outputId": "ff8ec186-28b4-43bd-e1de-c64590707a18"
      },
      "source": [
        "\n",
        "## R^2 calculation for test data\n",
        "r2_score(y_test, pred_test_DT)"
      ],
      "execution_count": 325,
      "outputs": [
        {
          "output_type": "execute_result",
          "data": {
            "text/plain": [
              "0.7250780153041204"
            ]
          },
          "metadata": {},
          "execution_count": 325
        }
      ]
    }
  ]
}